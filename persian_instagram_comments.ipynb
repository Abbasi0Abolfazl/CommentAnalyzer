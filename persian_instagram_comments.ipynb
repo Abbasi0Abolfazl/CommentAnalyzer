{
 "cells": [
  {
   "cell_type": "code",
   "execution_count": 17,
   "metadata": {
    "id": "SG6zJINatXx-"
   },
   "outputs": [],
   "source": [
    "# Data manipulation and analysis\n",
    "import pandas as pd\n",
    "from collections import Counter\n",
    "\n",
    "# Text processing\n",
    "import re\n",
    "import string\n",
    "import emoji\n",
    "from hazm import Normalizer, Lemmatizer, stopwords_list, word_tokenize\n",
    "import arabic_reshaper\n",
    "from bidi.algorithm import get_display\n",
    "\n",
    "# Visualization\n",
    "import seaborn as sns\n",
    "import matplotlib.pyplot as plt\n",
    "from wordcloud import WordCloud\n",
    "\n",
    "# Machine learning\n",
    "from sklearn.model_selection import train_test_split\n",
    "from sklearn.feature_extraction.text import CountVectorizer, TfidfVectorizer\n",
    "from sklearn.naive_bayes import MultinomialNB\n",
    "from sklearn.ensemble import GradientBoostingClassifier, RandomForestClassifier\n",
    "from sklearn.svm import SVC\n",
    "from sklearn.linear_model import LogisticRegression\n",
    "from sklearn.pipeline import Pipeline\n",
    "from sklearn.metrics import classification_report\n",
    "from sklearn.decomposition import LatentDirichletAllocation, TruncatedSVD, NMF\n",
    "\n",
    "# Topic modeling\n",
    "from bertopic import BERTopic\n",
    "\n",
    "# NLP embeddings\n",
    "from flair.embeddings import TransformerDocumentEmbeddings\n",
    "from transformers import AutoTokenizer, AutoModel\n",
    "\n",
    "# Logging\n",
    "import logging\n",
    "\n",
    "# Functional programming\n",
    "import functools\n",
    "import operator\n",
    "\n",
    "import os\n",
    "\n",
    "# Initialize normalizer and lemmatizer from Hazm\n",
    "normalizer = Normalizer()\n",
    "lemmatizer = Lemmatizer()\n",
    "\n",
    "# Set up logging to ignore warnings from matplotlib\n",
    "logging.getLogger('matplotlib.font_manager').setLevel(logging.ERROR)\n",
    "\n",
    "# Set up logging\n",
    "logging.basicConfig(level=logging.WARNING)\n",
    "logger = logging.getLogger(__name__)"
   ]
  },
  {
   "cell_type": "code",
   "execution_count": 3,
   "metadata": {
    "id": "GYGGkbCmtbZd"
   },
   "outputs": [
    {
     "data": {
      "text/html": [
       "<div>\n",
       "<style scoped>\n",
       "    .dataframe tbody tr th:only-of-type {\n",
       "        vertical-align: middle;\n",
       "    }\n",
       "\n",
       "    .dataframe tbody tr th {\n",
       "        vertical-align: top;\n",
       "    }\n",
       "\n",
       "    .dataframe thead th {\n",
       "        text-align: right;\n",
       "    }\n",
       "</style>\n",
       "<table border=\"1\" class=\"dataframe\">\n",
       "  <thead>\n",
       "    <tr style=\"text-align: right;\">\n",
       "      <th></th>\n",
       "      <th>Unnamed: 0</th>\n",
       "      <th>comment</th>\n",
       "      <th>sentiment</th>\n",
       "    </tr>\n",
       "  </thead>\n",
       "  <tbody>\n",
       "    <tr>\n",
       "      <th>0</th>\n",
       "      <td>7216</td>\n",
       "      <td>سلام صبح بخیر ممنون از بر نامه بی نظیرتون لیلا...</td>\n",
       "      <td>1</td>\n",
       "    </tr>\n",
       "    <tr>\n",
       "      <th>1</th>\n",
       "      <td>4024</td>\n",
       "      <td>همشون عالی میخوانند و چهره برتر هستند</td>\n",
       "      <td>1</td>\n",
       "    </tr>\n",
       "    <tr>\n",
       "      <th>2</th>\n",
       "      <td>6443</td>\n",
       "      <td>LINK نباشید با برنامه بسیار بسیار LINK خدا زود...</td>\n",
       "      <td>0</td>\n",
       "    </tr>\n",
       "    <tr>\n",
       "      <th>3</th>\n",
       "      <td>3963</td>\n",
       "      <td>حامد همایون ۶</td>\n",
       "      <td>0</td>\n",
       "    </tr>\n",
       "    <tr>\n",
       "      <th>4</th>\n",
       "      <td>8563</td>\n",
       "      <td>تسلیت برای ایران و ایرانی کلمه بسیار کوچک است ...</td>\n",
       "      <td>-1</td>\n",
       "    </tr>\n",
       "  </tbody>\n",
       "</table>\n",
       "</div>"
      ],
      "text/plain": [
       "   Unnamed: 0                                            comment  sentiment\n",
       "0        7216  سلام صبح بخیر ممنون از بر نامه بی نظیرتون لیلا...          1\n",
       "1        4024              همشون عالی میخوانند و چهره برتر هستند          1\n",
       "2        6443  LINK نباشید با برنامه بسیار بسیار LINK خدا زود...          0\n",
       "3        3963                                      حامد همایون ۶          0\n",
       "4        8563  تسلیت برای ایران و ایرانی کلمه بسیار کوچک است ...         -1"
      ]
     },
     "execution_count": 3,
     "metadata": {},
     "output_type": "execute_result"
    }
   ],
   "source": [
    "df = pd.read_csv('src/train.csv')\n",
    "df.head()"
   ]
  },
  {
   "cell_type": "code",
   "execution_count": 4,
   "metadata": {
    "colab": {
     "base_uri": "https://localhost:8080/"
    },
    "id": "8snCWs2vYG2t",
    "outputId": "db14b2ec-d01c-4d7a-d4e1-464f3e818f17"
   },
   "outputs": [
    {
     "data": {
      "text/plain": [
       "(7235, 3)"
      ]
     },
     "execution_count": 4,
     "metadata": {},
     "output_type": "execute_result"
    }
   ],
   "source": [
    "df.shape"
   ]
  },
  {
   "cell_type": "code",
   "execution_count": 5,
   "metadata": {
    "colab": {
     "base_uri": "https://localhost:8080/",
     "height": 300
    },
    "id": "F532hY4iYG2u",
    "outputId": "31d8c40c-c096-4f0b-cfef-f14aa6244545"
   },
   "outputs": [
    {
     "data": {
      "text/html": [
       "<div>\n",
       "<style scoped>\n",
       "    .dataframe tbody tr th:only-of-type {\n",
       "        vertical-align: middle;\n",
       "    }\n",
       "\n",
       "    .dataframe tbody tr th {\n",
       "        vertical-align: top;\n",
       "    }\n",
       "\n",
       "    .dataframe thead th {\n",
       "        text-align: right;\n",
       "    }\n",
       "</style>\n",
       "<table border=\"1\" class=\"dataframe\">\n",
       "  <thead>\n",
       "    <tr style=\"text-align: right;\">\n",
       "      <th></th>\n",
       "      <th>Unnamed: 0</th>\n",
       "      <th>sentiment</th>\n",
       "    </tr>\n",
       "  </thead>\n",
       "  <tbody>\n",
       "    <tr>\n",
       "      <th>count</th>\n",
       "      <td>7235.000000</td>\n",
       "      <td>7235.000000</td>\n",
       "    </tr>\n",
       "    <tr>\n",
       "      <th>mean</th>\n",
       "      <td>4290.235107</td>\n",
       "      <td>-0.044921</td>\n",
       "    </tr>\n",
       "    <tr>\n",
       "      <th>std</th>\n",
       "      <td>2474.091395</td>\n",
       "      <td>0.839019</td>\n",
       "    </tr>\n",
       "    <tr>\n",
       "      <th>min</th>\n",
       "      <td>0.000000</td>\n",
       "      <td>-1.000000</td>\n",
       "    </tr>\n",
       "    <tr>\n",
       "      <th>25%</th>\n",
       "      <td>2155.500000</td>\n",
       "      <td>-1.000000</td>\n",
       "    </tr>\n",
       "    <tr>\n",
       "      <th>50%</th>\n",
       "      <td>4279.000000</td>\n",
       "      <td>0.000000</td>\n",
       "    </tr>\n",
       "    <tr>\n",
       "      <th>75%</th>\n",
       "      <td>6424.500000</td>\n",
       "      <td>1.000000</td>\n",
       "    </tr>\n",
       "    <tr>\n",
       "      <th>max</th>\n",
       "      <td>8585.000000</td>\n",
       "      <td>1.000000</td>\n",
       "    </tr>\n",
       "  </tbody>\n",
       "</table>\n",
       "</div>"
      ],
      "text/plain": [
       "        Unnamed: 0    sentiment\n",
       "count  7235.000000  7235.000000\n",
       "mean   4290.235107    -0.044921\n",
       "std    2474.091395     0.839019\n",
       "min       0.000000    -1.000000\n",
       "25%    2155.500000    -1.000000\n",
       "50%    4279.000000     0.000000\n",
       "75%    6424.500000     1.000000\n",
       "max    8585.000000     1.000000"
      ]
     },
     "execution_count": 5,
     "metadata": {},
     "output_type": "execute_result"
    }
   ],
   "source": [
    "df.describe()"
   ]
  },
  {
   "cell_type": "code",
   "execution_count": 6,
   "metadata": {
    "colab": {
     "base_uri": "https://localhost:8080/"
    },
    "id": "RH4qt_MMYG2w",
    "outputId": "5d70d9bf-903c-4e6a-b679-1f11496cc84f"
   },
   "outputs": [
    {
     "name": "stdout",
     "output_type": "stream",
     "text": [
      "<class 'pandas.core.frame.DataFrame'>\n",
      "RangeIndex: 7235 entries, 0 to 7234\n",
      "Data columns (total 3 columns):\n",
      " #   Column      Non-Null Count  Dtype \n",
      "---  ------      --------------  ----- \n",
      " 0   Unnamed: 0  7235 non-null   int64 \n",
      " 1   comment     7235 non-null   object\n",
      " 2   sentiment   7235 non-null   int64 \n",
      "dtypes: int64(2), object(1)\n",
      "memory usage: 169.7+ KB\n"
     ]
    }
   ],
   "source": [
    "df.info()"
   ]
  },
  {
   "cell_type": "code",
   "execution_count": 7,
   "metadata": {
    "colab": {
     "base_uri": "https://localhost:8080/",
     "height": 178
    },
    "id": "4lT3VTnZYG2y",
    "outputId": "f5e4a428-44dd-4c0a-f1c8-d0b6ea3bb4db"
   },
   "outputs": [
    {
     "data": {
      "text/plain": [
       "Unnamed: 0    0\n",
       "comment       0\n",
       "sentiment     0\n",
       "dtype: int64"
      ]
     },
     "execution_count": 7,
     "metadata": {},
     "output_type": "execute_result"
    }
   ],
   "source": [
    "df.isna().sum()"
   ]
  },
  {
   "cell_type": "code",
   "execution_count": 8,
   "metadata": {
    "colab": {
     "base_uri": "https://localhost:8080/"
    },
    "id": "o2F_nc3UYG20",
    "outputId": "e2224b75-d3e2-4160-94a1-3316f018398b"
   },
   "outputs": [
    {
     "data": {
      "text/plain": [
       "0"
      ]
     },
     "execution_count": 8,
     "metadata": {},
     "output_type": "execute_result"
    }
   ],
   "source": [
    "df.duplicated().sum()"
   ]
  },
  {
   "cell_type": "code",
   "execution_count": 9,
   "metadata": {
    "id": "3ud9av9gYG22"
   },
   "outputs": [],
   "source": [
    "df.drop('Unnamed: 0', axis=1, inplace=True)"
   ]
  },
  {
   "cell_type": "code",
   "execution_count": 10,
   "metadata": {
    "colab": {
     "base_uri": "https://localhost:8080/",
     "height": 206
    },
    "id": "-feJIC_2YG24",
    "outputId": "31f83b42-b284-466c-964b-21f37964a787"
   },
   "outputs": [
    {
     "data": {
      "text/html": [
       "<div>\n",
       "<style scoped>\n",
       "    .dataframe tbody tr th:only-of-type {\n",
       "        vertical-align: middle;\n",
       "    }\n",
       "\n",
       "    .dataframe tbody tr th {\n",
       "        vertical-align: top;\n",
       "    }\n",
       "\n",
       "    .dataframe thead th {\n",
       "        text-align: right;\n",
       "    }\n",
       "</style>\n",
       "<table border=\"1\" class=\"dataframe\">\n",
       "  <thead>\n",
       "    <tr style=\"text-align: right;\">\n",
       "      <th></th>\n",
       "      <th>comment</th>\n",
       "      <th>sentiment</th>\n",
       "    </tr>\n",
       "  </thead>\n",
       "  <tbody>\n",
       "    <tr>\n",
       "      <th>0</th>\n",
       "      <td>سلام صبح بخیر ممنون از بر نامه بی نظیرتون لیلا...</td>\n",
       "      <td>1</td>\n",
       "    </tr>\n",
       "    <tr>\n",
       "      <th>1</th>\n",
       "      <td>همشون عالی میخوانند و چهره برتر هستند</td>\n",
       "      <td>1</td>\n",
       "    </tr>\n",
       "    <tr>\n",
       "      <th>2</th>\n",
       "      <td>LINK نباشید با برنامه بسیار بسیار LINK خدا زود...</td>\n",
       "      <td>0</td>\n",
       "    </tr>\n",
       "    <tr>\n",
       "      <th>3</th>\n",
       "      <td>حامد همایون ۶</td>\n",
       "      <td>0</td>\n",
       "    </tr>\n",
       "    <tr>\n",
       "      <th>4</th>\n",
       "      <td>تسلیت برای ایران و ایرانی کلمه بسیار کوچک است ...</td>\n",
       "      <td>-1</td>\n",
       "    </tr>\n",
       "  </tbody>\n",
       "</table>\n",
       "</div>"
      ],
      "text/plain": [
       "                                             comment  sentiment\n",
       "0  سلام صبح بخیر ممنون از بر نامه بی نظیرتون لیلا...          1\n",
       "1              همشون عالی میخوانند و چهره برتر هستند          1\n",
       "2  LINK نباشید با برنامه بسیار بسیار LINK خدا زود...          0\n",
       "3                                      حامد همایون ۶          0\n",
       "4  تسلیت برای ایران و ایرانی کلمه بسیار کوچک است ...         -1"
      ]
     },
     "execution_count": 10,
     "metadata": {},
     "output_type": "execute_result"
    }
   ],
   "source": [
    "df.head()"
   ]
  },
  {
   "cell_type": "markdown",
   "metadata": {
    "id": "XJ2Y-TGJahYF"
   },
   "source": [
    "# Sentiment Analysis Visualization\n",
    "\n",
    "In this analysis, we explore the sentiment of comments using various visualizations. The following charts provide insights into the distribution and characteristics of sentiments expressed in the comments.\n",
    "\n"
   ]
  },
  {
   "cell_type": "code",
   "execution_count": 11,
   "metadata": {
    "colab": {
     "base_uri": "https://localhost:8080/",
     "height": 444
    },
    "id": "T0DeAeMnZneC",
    "outputId": "dd4ead5b-f949-4d71-dbbc-44d9001c890d"
   },
   "outputs": [
    {
     "data": {
      "image/png": "[encoded data removed]",
      "text/plain": [
       "<Figure size 800x500 with 1 Axes>"
      ]
     },
     "metadata": {},
     "output_type": "display_data"
    }
   ],
   "source": [
    "# Pie chart for sentiment ratio\n",
    "plt.figure(figsize=(8, 5))\n",
    "df['sentiment'].value_counts().plot.pie(autopct='%1.1f%%', startangle=90, colors=['red', 'gray', 'green'])\n",
    "plt.title('Sentiment Ratio')\n",
    "plt.ylabel('')\n",
    "plt.show()"
   ]
  },
  {
   "cell_type": "code",
   "execution_count": null,
   "metadata": {
    "colab": {
     "base_uri": "https://localhost:8080/",
     "height": 487
    },
    "id": "WJ7Ec4E1Zsnn",
    "outputId": "88d14262-171a-464f-e857-c92431536446"
   },
   "outputs": [
    {
     "data": {
      "image/png": "[encoded data removed]",
      "text/plain": [
       "<Figure size 800x500 with 1 Axes>"
      ]
     },
     "metadata": {},
     "output_type": "display_data"
    }
   ],
   "source": [
    "# Scatter plot to examine the relationship between comment length and sentiment scores\n",
    "\n",
    "plt.figure(figsize=(8, 5))\n",
    "plt.scatter(df['comment'].apply(len), df['sentiment'], color='blue')\n",
    "plt.title('Relationship Between Comment Length and Sentiment Scores')\n",
    "plt.xlabel('Comment Length')\n",
    "plt.ylabel('Sentiment')\n",
    "plt.show()"
   ]
  },
  {
   "cell_type": "markdown",
   "metadata": {
    "id": "R2rLB2R9hp17"
   },
   "source": [
    "# Question Detection in Comments\n",
    "\n",
    "In this section, we implement a function to determine whether a given comment is a question. The function utilizes regular expressions and keyword matching to identify questions in Persian text.\n",
    "\n",
    "## Code Explanation\n",
    "\n",
    "### Regular Expression Pattern\n",
    "\n",
    "We define a regular expression pattern using the `re` module to capture various forms of questions. The pattern checks for:\n",
    "\n",
    "- Comments that end with a question mark (`?` or `؟`).\n",
    "- Comments that contain specific question words such as:\n",
    "  - چگونه (how)\n",
    "  - چیست (what is)\n",
    "  - کجا (where)\n",
    "  - چرا (why)\n",
    "  - آیا (is/are)\n",
    "  - کدام (which)\n",
    "  - چند (how many)\n",
    "  - می‌توان (can)\n",
    "  - باید (must)\n",
    "  - نمی‌توان (cannot)\n",
    "  - نمی‌دانم (I don't know)\n",
    "  - میشه (can I)\n",
    "  - میتونم (can I)\n",
    "  - میتونی (can you)\n",
    "  - چیه (what is)\n",
    "  - کی (who)\n",
    "  - کی‌ها (who are)\n",
    "  - چطور (how)\n",
    "  - چندتا (how many)\n",
    "  - می‌شود (it can be)\n",
    "  - چه‌طور (how)\n",
    "  - به‌چه (to what)\n",
    "  - چه‌زمان (when)\n",
    "  - به‌کجا (to where)\n",
    "\n",
    "### Function Definition\n",
    "\n",
    "The function `is_question(comment)` performs the following steps:\n",
    "\n",
    "1. **Regular Expression Search**: It first checks if the comment matches the defined regular expression pattern. If a match is found, the function returns `True`, indicating that the comment is a question.\n",
    "\n",
    "2. **Tokenization**: If the regular expression does not match, the comment is tokenized using the `word_tokenize` function. This breaks the comment into individual words (tokens).\n",
    "\n",
    "3. **Keyword Matching**: The function then checks if any of the tokens are present in a predefined set of keywords related to questions. If any keyword is found, the function returns `True`.\n",
    "\n",
    "4. **Final Return**: If neither the regular expression nor the keyword matching identifies the comment as a question, the function returns `False`.\n",
    "\n",
    "### Usage\n",
    "\n",
    "This function can be used to filter or categorize comments based on whether they are questions, which can be particularly useful in applications such as chatbots, customer support systems, or any text analysis tasks where understanding user inquiries is essential.\n"
   ]
  },
  {
   "cell_type": "code",
   "execution_count": 12,
   "metadata": {
    "id": "wnGE-EKbiB39"
   },
   "outputs": [],
   "source": [
    "question_pattern = re.compile(r'[\\?؟]$|.*\\b(چگونه|چیست|کجا|چرا|آیا|کدام|چند|می‌توان|باید|نمی‌توان|نمی‌دانم|میشه|میتونم|میتونی|چیه|آیا|کی|کی‌ها|چطور|چندتا|چیه|می‌شود|می‌شود|میشود|چه‌طور|به‌چه|چه‌زمان|به‌کجا)\\b.*')\n",
    "\n",
    "def is_question(comment):\n",
    "    if question_pattern.search(comment):\n",
    "        return True\n",
    "\n",
    "    tokens = word_tokenize(comment)\n",
    "    keywords = {\"چگونه\", \"چیست\", \"کجا\", \"چرا\", \"آیا\", \"کدام\", \"چند\", \"؟\", \"می‌توان\", \"باید\", \"نمی‌توان\", \"نمی‌دانم\", \"میشه\", \"میتونم\", \"میتونی\", \"چیه\", \"کی\", \"کی‌ها\", \"چطور\", \"چندتا\", \"می‌شود\", \"چه‌طور\", \"به‌چه\", \"چه‌زمان\", \"به‌کجا\"}\n",
    "\n",
    "    if any(token in keywords for token in tokens):\n",
    "        return True\n",
    "\n",
    "    return False\n",
    "\n",
    "df['is_question'] = df['comment'].apply(is_question)"
   ]
  },
  {
   "cell_type": "code",
   "execution_count": 13,
   "metadata": {
    "colab": {
     "base_uri": "https://localhost:8080/",
     "height": 424
    },
    "id": "oAdw3zlBiM_S",
    "outputId": "8cc5d0d7-b67f-4c41-e542-d86c540e924e"
   },
   "outputs": [
    {
     "data": {
      "text/html": [
       "<div>\n",
       "<style scoped>\n",
       "    .dataframe tbody tr th:only-of-type {\n",
       "        vertical-align: middle;\n",
       "    }\n",
       "\n",
       "    .dataframe tbody tr th {\n",
       "        vertical-align: top;\n",
       "    }\n",
       "\n",
       "    .dataframe thead th {\n",
       "        text-align: right;\n",
       "    }\n",
       "</style>\n",
       "<table border=\"1\" class=\"dataframe\">\n",
       "  <thead>\n",
       "    <tr style=\"text-align: right;\">\n",
       "      <th></th>\n",
       "      <th>comment</th>\n",
       "      <th>sentiment</th>\n",
       "      <th>is_question</th>\n",
       "    </tr>\n",
       "  </thead>\n",
       "  <tbody>\n",
       "    <tr>\n",
       "      <th>8</th>\n",
       "      <td>سلام و خسته نباشید خدمت آقای رشیدپور عزیز و هم...</td>\n",
       "      <td>1</td>\n",
       "      <td>True</td>\n",
       "    </tr>\n",
       "    <tr>\n",
       "      <th>19</th>\n",
       "      <td>چرا از تظاهرات حرف نزدی کسگم از ترس کونته کسگم</td>\n",
       "      <td>-1</td>\n",
       "      <td>True</td>\n",
       "    </tr>\n",
       "    <tr>\n",
       "      <th>22</th>\n",
       "      <td>حدودا پایتخت بعدی کی استارت میخوره؟ امسال یا س...</td>\n",
       "      <td>0</td>\n",
       "      <td>True</td>\n",
       "    </tr>\n",
       "    <tr>\n",
       "      <th>25</th>\n",
       "      <td>آقای رشید پور در مورد سهمیه‌های موجود در کنکور...</td>\n",
       "      <td>-1</td>\n",
       "      <td>True</td>\n",
       "    </tr>\n",
       "    <tr>\n",
       "      <th>28</th>\n",
       "      <td>ارسطو بالاخره کی داماد میشه؟؟؟ سنش خیلی داره م...</td>\n",
       "      <td>0</td>\n",
       "      <td>True</td>\n",
       "    </tr>\n",
       "    <tr>\n",
       "      <th>...</th>\n",
       "      <td>...</td>\n",
       "      <td>...</td>\n",
       "      <td>...</td>\n",
       "    </tr>\n",
       "    <tr>\n",
       "      <th>7195</th>\n",
       "      <td>بله بسیار عالیه فقط زمانش یکم زوده میشه ساعت N...</td>\n",
       "      <td>1</td>\n",
       "      <td>True</td>\n",
       "    </tr>\n",
       "    <tr>\n",
       "      <th>7202</th>\n",
       "      <td>سلام، رسانه صالح برای مردم نجیب ایران، اون هم ...</td>\n",
       "      <td>-1</td>\n",
       "      <td>True</td>\n",
       "    </tr>\n",
       "    <tr>\n",
       "      <th>7210</th>\n",
       "      <td>سلام آقای رشیدپورلطفابه مسئولین محترم بگیدچرا ...</td>\n",
       "      <td>-1</td>\n",
       "      <td>True</td>\n",
       "    </tr>\n",
       "    <tr>\n",
       "      <th>7217</th>\n",
       "      <td>💢 انتقاد دانش‌آموزان به قانون جدید کنکور 💢 جمع...</td>\n",
       "      <td>1</td>\n",
       "      <td>True</td>\n",
       "    </tr>\n",
       "    <tr>\n",
       "      <th>7234</th>\n",
       "      <td>آقای رشید پور پس معلمان بدبخت مطالبات عقب افتا...</td>\n",
       "      <td>-1</td>\n",
       "      <td>True</td>\n",
       "    </tr>\n",
       "  </tbody>\n",
       "</table>\n",
       "<p>1331 rows × 3 columns</p>\n",
       "</div>"
      ],
      "text/plain": [
       "                                                comment  sentiment  \\\n",
       "8     سلام و خسته نباشید خدمت آقای رشیدپور عزیز و هم...          1   \n",
       "19       چرا از تظاهرات حرف نزدی کسگم از ترس کونته کسگم         -1   \n",
       "22    حدودا پایتخت بعدی کی استارت میخوره؟ امسال یا س...          0   \n",
       "25    آقای رشید پور در مورد سهمیه‌های موجود در کنکور...         -1   \n",
       "28    ارسطو بالاخره کی داماد میشه؟؟؟ سنش خیلی داره م...          0   \n",
       "...                                                 ...        ...   \n",
       "7195  بله بسیار عالیه فقط زمانش یکم زوده میشه ساعت N...          1   \n",
       "7202  سلام، رسانه صالح برای مردم نجیب ایران، اون هم ...         -1   \n",
       "7210  سلام آقای رشیدپورلطفابه مسئولین محترم بگیدچرا ...         -1   \n",
       "7217  💢 انتقاد دانش‌آموزان به قانون جدید کنکور 💢 جمع...          1   \n",
       "7234  آقای رشید پور پس معلمان بدبخت مطالبات عقب افتا...         -1   \n",
       "\n",
       "      is_question  \n",
       "8            True  \n",
       "19           True  \n",
       "22           True  \n",
       "25           True  \n",
       "28           True  \n",
       "...           ...  \n",
       "7195         True  \n",
       "7202         True  \n",
       "7210         True  \n",
       "7217         True  \n",
       "7234         True  \n",
       "\n",
       "[1331 rows x 3 columns]"
      ]
     },
     "execution_count": 13,
     "metadata": {},
     "output_type": "execute_result"
    }
   ],
   "source": [
    "df[df['is_question'] == True]"
   ]
  },
  {
   "cell_type": "code",
   "execution_count": null,
   "metadata": {
    "colab": {
     "base_uri": "https://localhost:8080/",
     "height": 487
    },
    "id": "33FZKc_8kTbw",
    "outputId": "3f7a005e-469a-4d51-f798-c5cb9f21e330"
   },
   "outputs": [
    {
     "data": {
      "image/png": "[encoded data removed]",
      "text/plain": [
       "<Figure size 800x500 with 1 Axes>"
      ]
     },
     "metadata": {},
     "output_type": "display_data"
    }
   ],
   "source": [
    "# Counting the number of questions and non-questions\n",
    "question_counts = df['is_question'].value_counts()\n",
    "\n",
    "# Bar Plot\n",
    "plt.figure(figsize=(8, 5))\n",
    "sns.barplot(x=question_counts.index, y=question_counts.values, palette='viridis')\n",
    "plt.title('Count of Questions and Non-Questions')\n",
    "plt.xlabel('is_question')\n",
    "plt.ylabel('Count')\n",
    "plt.xticks(ticks=[0, 1], labels=['Non-Question', 'Question'])\n",
    "plt.show()"
   ]
  },
  {
   "cell_type": "code",
   "execution_count": null,
   "metadata": {
    "colab": {
     "base_uri": "https://localhost:8080/",
     "height": 444
    },
    "id": "dwbXlzbXk5z6",
    "outputId": "362af0c5-06f5-41f6-b1f5-567364589636"
   },
   "outputs": [
    {
     "data": {
      "image/png": "[encoded data removed]",
      "text/plain": [
       "<Figure size 800x500 with 1 Axes>"
      ]
     },
     "metadata": {},
     "output_type": "display_data"
    }
   ],
   "source": [
    "plt.figure(figsize=(8, 5))\n",
    "plt.pie(question_counts, labels=['Non-Question', 'Question'], autopct='%1.1f%%', startangle=90, colors=['lightcoral', 'lightskyblue'])\n",
    "plt.title('Ratio of Questions to Non-Questions')\n",
    "plt.axis('equal')\n",
    "plt.show()"
   ]
  },
  {
   "cell_type": "markdown",
   "metadata": {
    "id": "JdGeExF8kGbk"
   },
   "source": [
    "# Text Cleaning and Emoji Processing\n",
    "\n",
    "In this section, we implement functions to clean text data and handle emojis effectively. The functions remove unwanted characters, URLs, and stopwords, while also processing emojis in the text.\n",
    "\n",
    "## Code Explanation\n",
    "\n",
    "### 1. `get_emoji_regexp()`\n",
    "\n",
    "This function creates a regular expression pattern to match emojis in the text. The steps involved are:\n",
    "\n",
    "- **Sorting Emojis**: The function retrieves all emojis from the `emoji.EMOJI_DATA` dictionary and sorts them by length in descending order. This prioritization ensures that multi-character emojis are matched before single-character ones.\n",
    "  \n",
    "- **Compiling the Pattern**: It constructs a regex pattern that matches any of the emojis. The pattern is then compiled using `re.compile()` for efficient matching.\n",
    "\n",
    "### 2. `clean_text(text, stopwords)`\n",
    "\n",
    "This function cleans the input text by performing several operations:\n",
    "\n",
    "- **Removing URLs**: It uses a regex pattern to remove any URLs from the text, ensuring that they do not interfere with further processing.\n",
    "\n",
    "- **Removing Unwanted Characters**: The function replaces any characters that are not Persian letters, numbers, or specific symbols (like hashtags and underscores) with a space. This helps in retaining only relevant content.\n",
    "\n",
    "- **Whitespace Cleanup**: It removes extra whitespace by replacing multiple spaces with a single space and trimming leading/trailing spaces.\n",
    "\n",
    "- **Removing Punctuation**: The function creates a translation table to remove punctuation from the text using `str.translate()`.\n",
    "\n",
    "- **Splitting by Emojis and Whitespace**: The text is split into substrings based on emojis and whitespace. This is done using the regex pattern generated by `get_emoji_regexp()`. The resulting substrings are further split by whitespace, and all parts are concatenated into a single list.\n",
    "\n",
    "- **Tokenization**: The cleaned text is tokenized into individual words using the `word_tokenize()` function.\n",
    "\n",
    "- **Removing Stopwords**: The function filters out any stopwords from the tokenized words, ensuring that only meaningful words remain.\n",
    "\n",
    "- **Lemmatization**: Each word is lemmatized using a lemmatizer (assumed to be defined elsewhere in the code) to reduce words to their base or root form.\n",
    "\n",
    "- **Final Text Construction**: The cleaned and processed words are joined back into a single string, which is returned as the final cleaned text.\n",
    "\n",
    "### Usage\n",
    "\n",
    "These functions are useful for preprocessing text data in natural language processing (NLP) tasks, such as sentiment analysis, text classification, or any application where clean and structured text input is required. The handling of emojis allows for better representation of sentiments and expressions in the text.\n"
   ]
  },
  {
   "cell_type": "code",
   "execution_count": 15,
   "metadata": {
    "id": "wkh3LoKiiHhL"
   },
   "outputs": [],
   "source": [
    "def get_emoji_regexp():\n",
    "    # Create a regex pattern to match emojis, prioritizing multi-character emojis\n",
    "    emojis = sorted(emoji.EMOJI_DATA, key=len, reverse=True)\n",
    "    pattern = u'(' + u'|'.join(re.escape(u) for u in emojis) + u')'\n",
    "    return re.compile(pattern)\n",
    "\n",
    "def clean_text(text, stopwords):\n",
    "    # Remove URLs and unwanted characters, then clean up the text\n",
    "    text = re.sub(r'https?://\\S+|www\\.\\S+', '', text)\n",
    "    text = re.sub(r'[^ا-ی0-9\\s#@_آ]', ' ', text)\n",
    "    text = re.sub(r'\\s+', ' ', text).strip()\n",
    "\n",
    "    # Remove punctuation\n",
    "    translator = str.maketrans('', '', string.punctuation)\n",
    "    text = text.translate(translator)\n",
    "\n",
    "    # Split text by emojis and whitespace\n",
    "    em_split_emoji = get_emoji_regexp().split(text)\n",
    "    em_split_whitespace = [substr.split() for substr in em_split_emoji]\n",
    "    em_split = functools.reduce(operator.concat, em_split_whitespace)\n",
    "    text = \" \".join(em_split)\n",
    "\n",
    "    # Tokenize, remove stopwords, and lemmatize words\n",
    "    words = word_tokenize(text)\n",
    "    words = [word for word in words if word not in stopwords]\n",
    "    words = [lemmatizer.lemmatize(word) for word in words]\n",
    "    text = ' '.join(words)\n",
    "    return text\n"
   ]
  },
  {
   "cell_type": "markdown",
   "metadata": {
    "id": "cILAX8XOmDrk"
   },
   "source": [
    "# Persian Stopwords Collection\n",
    "\n",
    "In this section, we implement a method to collect Persian stopwords from multiple sources. The goal is to create a comprehensive list of stopwords that can be used in natural language processing (NLP) tasks.\n",
    "\n",
    "## Code Explanation\n",
    "\n",
    "### 1. List of Local Files\n",
    "\n",
    "We define a list called `relative_path`, which contains the paths to various text files that contain Persian stopwords. Each file is expected to have a list of stopwords, one per line. The sources include:\n",
    "\n",
    "- `Savoy/persianST.txt`\n",
    "- `Taghva/non-verbal_stopwords.txt`\n",
    "- `Taghva/verbal_stopwords.txt`\n",
    "- `Mazdak/Persian_StopList.txt`\n",
    "- `shokri/stop-words.txt`\n",
    "- `Mojiry/PersianStopWords.txt`\n",
    "- `Kharazi/Pesian_Stop_Words_List.txt`\n",
    "\n",
    "### 2. Local Path for Stopwords\n",
    "\n",
    "The local path `local_path` is defined to point to the directory where the stopword files are stored. This path will be concatenated with each link in the `links` list to form the complete file path for each stopword file.\n",
    "\n",
    "### 3. Collecting Stopwords\n",
    "\n",
    "- An empty set called `stop_words` is initialized to store the unique stopwords.\n",
    "\n",
    "- A loop iterates over each link in the `links` list:\n",
    "  - The full file path is constructed using the local path and the current link.\n",
    "  - The content of each stopword file is read, and the text is split by newline characters (`\\n`) to create a list of stopwords.\n",
    "  - The `update()` method is called on the `stop_words` set to add the newly retrieved stopwords, ensuring that duplicates are automatically handled.\n",
    "\n",
    "### 4. Additional Stopwords\n",
    "\n",
    "- The `stop_words` set is further updated with additional stopwords from the Hazm library using the `stopwords_list()` function. This function is assumed to return a list of stopwords, which are then added to the existing set.\n",
    "\n",
    "### Usage\n",
    "\n",
    "This collection of Persian stopwords can be utilized in various NLP applications, such as text preprocessing, sentiment analysis, and information retrieval. By filtering out common stopwords, we can focus on the more meaningful words in the text, improving the quality of analysis and results.\n",
    "\n",
    "## Repository Reference\n",
    "\n",
    "For more information and access to the stopwords files, please refer to the [Persian Stopwords Collection repository](https://github.com/ziaa/Persian-stopwords-collection.git).\n"
   ]
  },
  {
   "cell_type": "code",
   "execution_count": null,
   "metadata": {},
   "outputs": [],
   "source": [
    "local_path = \"Persian-stopwords-collection/Stopwords\"\n",
    "\n",
    "relative_path = [\n",
    "    \"Savoy/persianST.txt\",\n",
    "    \"Taghva/non-verbal_stopwords.txt\",\n",
    "    \"Taghva/verbal_stopwords.txt\",\n",
    "    \"Mazdak/Persian_StopList.txt\",\n",
    "    \"shokri/stop-words.txt\",\n",
    "    \"Mojiry/PersianStopWords.txt\",\n",
    "    \"Kharazi/Pesian_Stop_Words_List.txt\"\n",
    "]\n",
    "\n",
    "stop_words = set()\n",
    "\n",
    "for link in relative_path:\n",
    "    file_path = os.path.join(local_path, link)\n",
    "    with open(file_path, 'r', encoding='utf-8') as file:\n",
    "        stop_words.update(file.read().splitlines())\n",
    "\n",
    "# Update stop_words with additional stopwords from Hazm\n",
    "stop_words.update(stopwords_list())\n"
   ]
  },
  {
   "cell_type": "code",
   "execution_count": 26,
   "metadata": {},
   "outputs": [
    {
     "data": {
      "text/plain": [
       "2810"
      ]
     },
     "execution_count": 26,
     "metadata": {},
     "output_type": "execute_result"
    }
   ],
   "source": [
    "len(stop_words)"
   ]
  },
  {
   "cell_type": "code",
   "execution_count": 20,
   "metadata": {
    "colab": {
     "base_uri": "https://localhost:8080/"
    },
    "id": "iBa8dNhAlISX",
    "outputId": "06d9500c-412f-49a2-eb57-31d4d53242dc"
   },
   "outputs": [
    {
     "data": {
      "text/plain": [
       "(7235, 3)"
      ]
     },
     "execution_count": 20,
     "metadata": {},
     "output_type": "execute_result"
    }
   ],
   "source": [
    "df.shape"
   ]
  },
  {
   "cell_type": "code",
   "execution_count": 16,
   "metadata": {
    "id": "YMhcsaaBrBCb"
   },
   "outputs": [],
   "source": [
    "# Clean Text with remove stop words\n",
    "df['comment'] = df['comment'].apply(lambda x: clean_text(x, stop_words))"
   ]
  },
  {
   "cell_type": "markdown",
   "metadata": {
    "id": "eFTUlsL5gVsw"
   },
   "source": [
    "### Removing comments that are less than 3 characters can create several issues in model training:\n",
    "\n",
    "1. **Loss of Valuable Data**: Short comments, even if they are brief, can contain important information or sentiment that may be relevant for the model. By removing them, you might lose valuable insights.\n",
    "\n",
    "2. **Bias in Data Distribution**: If the dataset originally contains a significant number of short comments, removing them can lead to a biased dataset. This can affect the model's ability to generalize well to real-world data, which may include short comments.\n",
    "\n",
    "3. **Imbalance in Class Distribution**: removing short comments could skew the distribution of classes, leading to an imbalance that can negatively impact the model's performance.\n",
    "\n",
    "4. **Reduced Diversity**: Short comments may represent a different style of communication or sentiment expression. Removing them can reduce the diversity of the training data, which is crucial for building a robust model.\n",
    "\n",
    "5. **Overfitting Risk**: With fewer data points, the model may overfit to the remaining longer comments, failing to learn the broader patterns present in the original dataset.\n",
    "\n",
    "In summary, while it may seem beneficial to filter out very short comments, doing so can lead to a loss of important information, introduce bias, and ultimately hinder the model's performance and generalization capabilities."
   ]
  },
  {
   "cell_type": "code",
   "execution_count": null,
   "metadata": {
    "id": "qx32GyQ3gX0Q"
   },
   "outputs": [],
   "source": [
    "# df = df[df['comment'].str.len() > 3]"
   ]
  },
  {
   "cell_type": "code",
   "execution_count": null,
   "metadata": {
    "colab": {
     "base_uri": "https://localhost:8080/"
    },
    "id": "CpEmDlJInaUh",
    "outputId": "c57d6d3d-8999-46a1-90ed-ff370ae2061e"
   },
   "outputs": [
    {
     "data": {
      "text/plain": [
       "(7235, 3)"
      ]
     },
     "execution_count": 68,
     "metadata": {},
     "output_type": "execute_result"
    }
   ],
   "source": [
    "df.shape"
   ]
  },
  {
   "cell_type": "markdown",
   "metadata": {
    "id": "EhMslgbks4sp"
   },
   "source": [
    "# Word Cloud"
   ]
  },
  {
   "cell_type": "code",
   "execution_count": null,
   "metadata": {
    "id": "UuD3MMpVzxyZ"
   },
   "outputs": [],
   "source": [
    "def column_to_wordcloud(df, column, font_file):\n",
    "    text = \" \".join(arabic_reshaper.reshape(t) for t in df[column].dropna())\n",
    "    # create and display the wordcloud\n",
    "    wordcloud = WordCloud(font_path=font_file, width = 3500, height = 2000, random_state=1, background_color='white', colormap='Set2', collocations=False).generate(text)\n",
    "    plt.imshow(wordcloud, interpolation=\"bilinear\")\n",
    "    plt.axis(\"off\")\n",
    "    plt.show()"
   ]
  },
  {
   "cell_type": "code",
   "execution_count": null,
   "metadata": {
    "colab": {
     "base_uri": "https://localhost:8080/",
     "height": 320
    },
    "id": "MQyTXKO_0Df1",
    "outputId": "d0c2b0a8-8cf0-4adc-811a-b660803e81f6"
   },
   "outputs": [
    {
     "data": {
      "image/png": "[encoded data removed]",
      "text/plain": [
       "<Figure size 640x480 with 1 Axes>"
      ]
     },
     "metadata": {},
     "output_type": "display_data"
    }
   ],
   "source": [
    "column_to_wordcloud(df, \"comment\",'/content/Arial.ttf')\n"
   ]
  },
  {
   "cell_type": "markdown",
   "metadata": {
    "id": "cHCi0HpYENxj"
   },
   "source": [
    "#Word frequencies\n",
    "\n",
    "Control characters are characters that are typically not visible in the display of text and can cause disruptions in data processing. Examples of control characters include:\n",
    "\n",
    "- **U+200E** (Left-to-Right Mark)\n",
    "- **U+200F** (Right-to-Left Mark)\n",
    "- **U+202A** (Left-to-Right Embedding)\n",
    "- **U+202B** (Right-to-Left Embedding)\n",
    "- **U+202C** (Pop Directional Formatting)\n",
    "- **U+202D** (Left-to-Right Override)\n",
    "- **U+202E** (Right-to-Left Override)\n",
    "- **U+2066** (Left-to-Right Isolate)\n",
    "- **U+2067** (Right-to-Left Isolate)\n",
    "- **U+2068** (First Strong Isolate)\n",
    "- **U+2069** (Pop Directional Formatting)\n",
    "\n",
    "These characters can interfere with text analysis and should be removed to ensure clean and properly formatted data."
   ]
  },
  {
   "cell_type": "code",
   "execution_count": 30,
   "metadata": {
    "id": "fmZ4TA-N9ho-"
   },
   "outputs": [],
   "source": [
    "def column_to_frequencies(df, column, font_file, stopwords):\n",
    "    text = \" \".join(t for t in df[column].dropna())\n",
    "    text = re.sub(r'[\\u200e\\u200f\\u202a\\u202b\\u202c\\u202d\\u202e\\u2066\\u2067\\u2068\\u2069]', '', text)\n",
    "\n",
    "    reshaped_text = \" \".join(arabic_reshaper.reshape(t) for t in text.split())\n",
    "    display_text = get_display(reshaped_text)\n",
    "\n",
    "    counts = Counter(display_text.split())\n",
    "    counts = {k: v for k, v in counts.items() if k not in stopwords}\n",
    "    counts = dict(sorted(counts.items(), key=lambda x: x[1], reverse=True)[:20])\n",
    "\n",
    "    palette = sns.color_palette(\"crest_r\", n_colors=len(counts))\n",
    "    palette = dict(zip(counts.keys(), palette))\n",
    "\n",
    "    sns.barplot(y=list(counts.keys()), x=list(counts.values()), palette=palette)\n",
    "    plt.show()\n"
   ]
  },
  {
   "cell_type": "code",
   "execution_count": 34,
   "metadata": {
    "colab": {
     "base_uri": "https://localhost:8080/",
     "height": 430
    },
    "id": "C9Bti0vW1EFc",
    "outputId": "a5cc8e3c-9818-417f-dac8-199c6660ec7a"
   },
   "outputs": [
    {
     "data": {
      "image/png": "[encoded data removed]",
      "text/plain": [
       "<Figure size 640x480 with 1 Axes>"
      ]
     },
     "metadata": {},
     "output_type": "display_data"
    }
   ],
   "source": [
    "column_to_frequencies(df, \"comment\",'/content/Arial.ttf', stop_words)"
   ]
  },
  {
   "cell_type": "markdown",
   "metadata": {
    "id": "FFwZrXvfkoS0"
   },
   "source": [
    "# Traing Model for sentiment analysis\n",
    "\n"
   ]
  },
  {
   "cell_type": "code",
   "execution_count": null,
   "metadata": {
    "colab": {
     "base_uri": "https://localhost:8080/"
    },
    "id": "XCTJWEvunDQ4",
    "outputId": "6c48fe6b-5499-458b-d9e9-e9b5c71f1a1d"
   },
   "outputs": [
    {
     "data": {
      "text/plain": [
       "((5342,), (5342,), (1336,), (1336,))"
      ]
     },
     "execution_count": 28,
     "metadata": {},
     "output_type": "execute_result"
    }
   ],
   "source": [
    "train_X, test_X, train_y, test_y = train_test_split(\n",
    "    df['comment'].values,\n",
    "    df['sentiment'].values,\n",
    "    stratify=df['sentiment'],\n",
    "    test_size=0.2,\n",
    "    random_state=42)\n",
    "train_X.shape, train_y.shape, test_X.shape, test_y.shape"
   ]
  },
  {
   "cell_type": "code",
   "execution_count": null,
   "metadata": {
    "colab": {
     "base_uri": "https://localhost:8080/"
    },
    "id": "0pSOy0fJynTr",
    "outputId": "8f13481b-8b11-47dd-9dc5-5ef6192f9013"
   },
   "outputs": [
    {
     "name": "stdout",
     "output_type": "stream",
     "text": [
      "Logistic Regression - Train Classification Report:\n",
      "              precision    recall  f1-score      support\n",
      "-1             0.879507  0.946522  0.911785  2113.000000\n",
      "0              0.893831  0.832888  0.862284  1496.000000\n",
      "1              0.911589  0.880554  0.895803  1733.000000\n",
      "accuracy       0.893298  0.893298  0.893298     0.893298\n",
      "macro avg      0.894976  0.886654  0.889957  5342.000000\n",
      "weighted avg   0.893926  0.893298  0.892738  5342.000000\n",
      "\n",
      "Logistic Regression - Test Classification Report:\n",
      "              precision    recall  f1-score      support\n",
      "-1             0.634731  0.801512  0.708438   529.000000\n",
      "0              0.642623  0.524064  0.577320   374.000000\n",
      "1              0.749311  0.628176  0.683417   433.000000\n",
      "accuracy       0.667665  0.667665  0.667665     0.667665\n",
      "macro avg      0.675555  0.651251  0.656391  1336.000000\n",
      "weighted avg   0.674076  0.667665  0.663623  1336.000000\n"
     ]
    }
   ],
   "source": [
    "\n",
    "lr_clf = Pipeline([\n",
    "    ('vect', TfidfVectorizer()),\n",
    "    ('clf', LogisticRegression()),\n",
    "])\n",
    "\n",
    "lr_clf.fit(train_X, train_y)\n",
    "\n",
    "train_pred = lr_clf.predict(train_X)\n",
    "train_report = classification_report(train_y, train_pred, output_dict=True)\n",
    "train_report_df = pd.DataFrame(train_report).transpose()\n",
    "print(\"Logistic Regression - Train Classification Report:\")\n",
    "print(train_report_df)\n",
    "\n",
    "test_pred = lr_clf.predict(test_X)\n",
    "test_report = classification_report(test_y, test_pred, output_dict=True)\n",
    "test_report_df = pd.DataFrame(test_report).transpose()\n",
    "print(\"\\nLogistic Regression - Test Classification Report:\")\n",
    "print(test_report_df)"
   ]
  },
  {
   "cell_type": "code",
   "execution_count": null,
   "metadata": {
    "colab": {
     "base_uri": "https://localhost:8080/"
    },
    "id": "xdqHJtQ9njaN",
    "outputId": "5e55675f-6c1e-402c-9089-da5fdb23e7d6"
   },
   "outputs": [
    {
     "name": "stdout",
     "output_type": "stream",
     "text": [
      "MultinomialNB - Train Classification Report:\n",
      "              precision    recall  f1-score      support\n",
      "-1             0.842553  0.937056  0.887296  2113.000000\n",
      "0              0.897822  0.716578  0.797026  1496.000000\n",
      "1              0.855395  0.887478  0.871141  1733.000000\n",
      "accuracy       0.859229  0.859229  0.859229     0.859229\n",
      "macro avg      0.865257  0.847037  0.851821  5342.000000\n",
      "weighted avg   0.862197  0.859229  0.856775  5342.000000\n",
      "\n",
      "MultinomialNB - Test Classification Report:\n",
      "              precision    recall  f1-score      support\n",
      "-1             0.644886  0.858223  0.736415   529.000000\n",
      "0              0.778261  0.478610  0.592715   374.000000\n",
      "1              0.733831  0.681293  0.706587   433.000000\n",
      "accuracy       0.694611  0.694611  0.694611     0.694611\n",
      "macro avg      0.718993  0.672709  0.678572  1336.000000\n",
      "weighted avg   0.711050  0.694611  0.686520  1336.000000\n"
     ]
    }
   ],
   "source": [
    "text_clf = Pipeline([\n",
    "    ('vect', TfidfVectorizer()),\n",
    "    ('clf', MultinomialNB()),\n",
    "])\n",
    "\n",
    "text_clf.fit(train_X, train_y)\n",
    "\n",
    "train_report = classification_report(train_y, text_clf.predict(train_X), output_dict=True)\n",
    "train_report_df = pd.DataFrame(train_report).transpose()\n",
    "print(\"MultinomialNB - Train Classification Report:\")\n",
    "print(train_report_df)\n",
    "\n",
    "test_pred = text_clf.predict(test_X)\n",
    "\n",
    "test_report = classification_report(test_y, test_pred, output_dict=True)\n",
    "test_report_df = pd.DataFrame(test_report).transpose()\n",
    "print(\"\\nMultinomialNB - Test Classification Report:\")\n",
    "print(test_report_df)\n"
   ]
  },
  {
   "cell_type": "code",
   "execution_count": null,
   "metadata": {
    "colab": {
     "base_uri": "https://localhost:8080/"
    },
    "id": "dyhWLz5MpQ4N",
    "outputId": "a5f801b9-0a6a-439b-9627-c7df2bd86bf1"
   },
   "outputs": [
    {
     "name": "stdout",
     "output_type": "stream",
     "text": [
      "Random Forest - Train Classification Report:\n",
      "              precision    recall  f1-score      support\n",
      "-1             0.994794  0.994794  0.994794  2113.000000\n",
      "0              0.976222  0.987968  0.982060  1496.000000\n",
      "1              0.991254  0.980958  0.986079  1733.000000\n",
      "accuracy       0.988394  0.988394  0.988394     0.988394\n",
      "macro avg      0.987423  0.987907  0.987644  5342.000000\n",
      "weighted avg   0.988445  0.988394  0.988401  5342.000000\n",
      "\n",
      "Random Forest - Test Classification Report:\n",
      "              precision    recall  f1-score      support\n",
      "-1             0.733198  0.680529  0.705882   529.000000\n",
      "0              0.544118  0.692513  0.609412   374.000000\n",
      "1              0.680217  0.579677  0.625935   433.000000\n",
      "accuracy       0.651198  0.651198  0.651198     0.651198\n",
      "macro avg      0.652511  0.650906  0.647076  1336.000000\n",
      "weighted avg   0.663095  0.651198  0.652965  1336.000000\n"
     ]
    }
   ],
   "source": [
    "rf_clf = Pipeline([\n",
    "    ('vect', TfidfVectorizer()),\n",
    "    ('clf', RandomForestClassifier(n_estimators=100)),\n",
    "])\n",
    "\n",
    "rf_clf.fit(train_X, train_y)\n",
    "\n",
    "train_pred = rf_clf.predict(train_X)\n",
    "train_report = classification_report(train_y, train_pred, output_dict=True)\n",
    "train_report_df = pd.DataFrame(train_report).transpose()\n",
    "print(\"Random Forest - Train Classification Report:\")\n",
    "print(train_report_df)\n",
    "\n",
    "test_pred = rf_clf.predict(test_X)\n",
    "\n",
    "test_report = classification_report(test_y, test_pred, output_dict=True)\n",
    "test_report_df = pd.DataFrame(test_report).transpose()\n",
    "print(\"\\nRandom Forest - Test Classification Report:\")\n",
    "print(test_report_df)"
   ]
  },
  {
   "cell_type": "code",
   "execution_count": null,
   "metadata": {
    "colab": {
     "base_uri": "https://localhost:8080/"
    },
    "id": "mA4L9wM-dM_v",
    "outputId": "86c1c155-fa27-4a8c-864e-99c7b9efcbd6"
   },
   "outputs": [
    {
     "name": "stdout",
     "output_type": "stream",
     "text": [
      "SVM - Train Classification Report:\n",
      "              precision    recall  f1-score     support\n",
      "-1             0.903924  0.948415  0.925635  2113.00000\n",
      "0              0.898015  0.877005  0.887386  1496.00000\n",
      "1              0.930288  0.893249  0.911392  1733.00000\n",
      "accuracy       0.910520  0.910520  0.910520     0.91052\n",
      "macro avg      0.910743  0.906223  0.908138  5342.00000\n",
      "weighted avg   0.910822  0.910520  0.910303  5342.00000\n",
      "\n",
      "SVM - Test Classification Report:\n",
      "              precision    recall  f1-score      support\n",
      "-1             0.649837  0.754253  0.698163   529.000000\n",
      "0              0.617564  0.582888  0.599725   374.000000\n",
      "1              0.747967  0.637413  0.688279   433.000000\n",
      "accuracy       0.668413  0.668413  0.668413     0.668413\n",
      "macro avg      0.671789  0.658185  0.662056  1336.000000\n",
      "weighted avg   0.672607  0.668413  0.667403  1336.000000\n"
     ]
    }
   ],
   "source": [
    "svm_clf = Pipeline([\n",
    "    ('vect', TfidfVectorizer()),\n",
    "    ('clf', SVC(kernel='linear')),\n",
    "])\n",
    "\n",
    "svm_clf.fit(train_X, train_y)\n",
    "\n",
    "train_pred = svm_clf.predict(train_X)\n",
    "train_report = classification_report(train_y, train_pred, output_dict=True)\n",
    "train_report_df = pd.DataFrame(train_report).transpose()\n",
    "print(\"SVM - Train Classification Report:\")\n",
    "print(train_report_df)\n",
    "\n",
    "test_pred = svm_clf.predict(test_X)\n",
    "test_report = classification_report(test_y, test_pred, output_dict=True)\n",
    "test_report_df = pd.DataFrame(test_report).transpose()\n",
    "print(\"\\nSVM - Test Classification Report:\")\n",
    "print(test_report_df)\n"
   ]
  },
  {
   "cell_type": "code",
   "execution_count": null,
   "metadata": {
    "colab": {
     "base_uri": "https://localhost:8080/"
    },
    "id": "oiRR463odfhJ",
    "outputId": "96c53d62-9760-4477-80c4-f8aba04007d1"
   },
   "outputs": [
    {
     "name": "stdout",
     "output_type": "stream",
     "text": [
      "Gradient Boosting - Train Classification Report:\n",
      "              precision    recall  f1-score      support\n",
      "-1             0.585082  0.950308  0.724256  2113.000000\n",
      "0              0.799065  0.457219  0.581633  1496.000000\n",
      "1              0.878558  0.534334  0.664514  1733.000000\n",
      "accuracy       0.677274  0.677274  0.677274     0.677274\n",
      "macro avg      0.754235  0.647287  0.656801  5342.000000\n",
      "weighted avg   0.740213  0.677274  0.664934  5342.000000\n",
      "\n",
      "Gradient Boosting - Test Classification Report:\n",
      "              precision    recall  f1-score     support\n",
      "-1             0.543373  0.852552  0.663723   529.00000\n",
      "0              0.688889  0.414439  0.517529   374.00000\n",
      "1              0.718861  0.466513  0.565826   433.00000\n",
      "accuracy       0.604790  0.604790  0.604790     0.60479\n",
      "macro avg      0.650375  0.577834  0.582360  1336.00000\n",
      "weighted avg   0.640985  0.604790  0.591069  1336.00000\n"
     ]
    }
   ],
   "source": [
    "gb_clf = Pipeline([\n",
    "    ('vect', TfidfVectorizer()),\n",
    "    ('clf', GradientBoostingClassifier()),\n",
    "])\n",
    "\n",
    "gb_clf.fit(train_X, train_y)\n",
    "\n",
    "train_pred = gb_clf.predict(train_X)\n",
    "train_report = classification_report(train_y, train_pred, output_dict=True)\n",
    "train_report_df = pd.DataFrame(train_report).transpose()\n",
    "print(\"Gradient Boosting - Train Classification Report:\")\n",
    "print(train_report_df)\n",
    "\n",
    "test_pred = gb_clf.predict(test_X)\n",
    "test_report = classification_report(test_y, test_pred, output_dict=True)\n",
    "test_report_df = pd.DataFrame(test_report).transpose()\n",
    "print(\"\\nGradient Boosting - Test Classification Report:\")\n",
    "print(test_report_df)\n"
   ]
  },
  {
   "cell_type": "markdown",
   "metadata": {
    "id": "cGeb-jxb2uz0"
   },
   "source": [
    "#Traing Model for question analysis\n",
    "\n"
   ]
  },
  {
   "cell_type": "code",
   "execution_count": null,
   "metadata": {
    "colab": {
     "base_uri": "https://localhost:8080/"
    },
    "id": "eFmPBphQlHDe",
    "outputId": "139f1c38-7160-4dad-c320-504ed920c1f2"
   },
   "outputs": [
    {
     "data": {
      "text/plain": [
       "((5342,), (5342,), (1336,), (1336,))"
      ]
     },
     "execution_count": 38,
     "metadata": {},
     "output_type": "execute_result"
    }
   ],
   "source": [
    "train_X, test_X, train_y, test_y = train_test_split(\n",
    "    df['comment'].values,\n",
    "    df['is_question'].values,\n",
    "    stratify=df['is_question'],\n",
    "    test_size=0.2,\n",
    "    random_state=42)\n",
    "train_X.shape, train_y.shape, test_X.shape, test_y.shape"
   ]
  },
  {
   "cell_type": "code",
   "execution_count": null,
   "metadata": {
    "colab": {
     "base_uri": "https://localhost:8080/"
    },
    "id": "OIpXmUhIeV6n",
    "outputId": "825b0d7b-e2ad-43a6-be1a-eeb3eff98b83"
   },
   "outputs": [
    {
     "name": "stdout",
     "output_type": "stream",
     "text": [
      "Logistic Regression - Train Classification Report:\n",
      "              precision    recall  f1-score      support\n",
      "False          0.832749  0.994877  0.906621  4294.000000\n",
      "True           0.896226  0.181298  0.301587  1048.000000\n",
      "accuracy       0.835268  0.835268  0.835268     0.835268\n",
      "macro avg      0.864487  0.588087  0.604104  5342.000000\n",
      "weighted avg   0.845202  0.835268  0.787925  5342.000000\n",
      "\n",
      "Logistic Regression - Test Classification Report:\n",
      "              precision    recall  f1-score      support\n",
      "False          0.816641  0.986965  0.893761  1074.000000\n",
      "True           0.631579  0.091603  0.160000   262.000000\n",
      "accuracy       0.811377  0.811377  0.811377     0.811377\n",
      "macro avg      0.724110  0.539284  0.526880  1336.000000\n",
      "weighted avg   0.780349  0.811377  0.749864  1336.000000\n"
     ]
    }
   ],
   "source": [
    "lr_clf = Pipeline([\n",
    "    ('vect', TfidfVectorizer()),\n",
    "    ('clf', LogisticRegression()),\n",
    "])\n",
    "\n",
    "lr_clf.fit(train_X, train_y)\n",
    "\n",
    "train_pred = lr_clf.predict(train_X)\n",
    "train_report = classification_report(train_y, train_pred, output_dict=True)\n",
    "train_report_df = pd.DataFrame(train_report).transpose()\n",
    "print(\"Logistic Regression - Train Classification Report:\")\n",
    "print(train_report_df)\n",
    "\n",
    "test_pred = lr_clf.predict(test_X)\n",
    "test_report = classification_report(test_y, test_pred, output_dict=True)\n",
    "test_report_df = pd.DataFrame(test_report).transpose()\n",
    "print(\"\\nLogistic Regression - Test Classification Report:\")\n",
    "print(test_report_df)"
   ]
  },
  {
   "cell_type": "code",
   "execution_count": null,
   "metadata": {
    "colab": {
     "base_uri": "https://localhost:8080/"
    },
    "id": "RhHlMKzmeV6p",
    "outputId": "d886e848-16e1-4a8a-fcab-503e250577ae"
   },
   "outputs": [
    {
     "name": "stdout",
     "output_type": "stream",
     "text": [
      "MultinomialNB - Train Classification Report:\n",
      "              precision    recall  f1-score      support\n",
      "False          0.822785  0.999068  0.902398  4294.000000\n",
      "True           0.968750  0.118321  0.210884  1048.000000\n",
      "accuracy       0.826282  0.826282  0.826282     0.826282\n",
      "macro avg      0.895767  0.558695  0.556641  5342.000000\n",
      "weighted avg   0.851420  0.826282  0.766736  5342.000000\n",
      "\n",
      "MultinomialNB - Test Classification Report:\n",
      "              precision    recall  f1-score      support\n",
      "False          0.805723  0.996276  0.890924  1074.000000\n",
      "True           0.500000  0.015267  0.029630   262.000000\n",
      "accuracy       0.803892  0.803892  0.803892     0.803892\n",
      "macro avg      0.652861  0.505771  0.460277  1336.000000\n",
      "weighted avg   0.745768  0.803892  0.722018  1336.000000\n"
     ]
    }
   ],
   "source": [
    "text_clf = Pipeline([\n",
    "    ('vect', TfidfVectorizer()),\n",
    "    ('clf', MultinomialNB()),\n",
    "])\n",
    "\n",
    "text_clf.fit(train_X, train_y)\n",
    "\n",
    "train_report = classification_report(train_y, text_clf.predict(train_X), output_dict=True)\n",
    "train_report_df = pd.DataFrame(train_report).transpose()\n",
    "print(\"MultinomialNB - Train Classification Report:\")\n",
    "print(train_report_df)\n",
    "\n",
    "test_pred = text_clf.predict(test_X)\n",
    "\n",
    "test_report = classification_report(test_y, test_pred, output_dict=True)\n",
    "test_report_df = pd.DataFrame(test_report).transpose()\n",
    "print(\"\\nMultinomialNB - Test Classification Report:\")\n",
    "print(test_report_df)\n"
   ]
  },
  {
   "cell_type": "code",
   "execution_count": null,
   "metadata": {
    "colab": {
     "base_uri": "https://localhost:8080/"
    },
    "id": "LavftGR8eV6q",
    "outputId": "5617c870-9085-4277-f96e-2f41fc4bd4bc"
   },
   "outputs": [
    {
     "name": "stdout",
     "output_type": "stream",
     "text": [
      "Random Forest - Train Classification Report:\n",
      "              precision    recall  f1-score      support\n",
      "False          0.997671  0.997438  0.997554  4294.000000\n",
      "True           0.989514  0.990458  0.989986  1048.000000\n",
      "accuracy       0.996069  0.996069  0.996069     0.996069\n",
      "macro avg      0.993592  0.993948  0.993770  5342.000000\n",
      "weighted avg   0.996070  0.996069  0.996070  5342.000000\n",
      "\n",
      "Random Forest - Test Classification Report:\n",
      "              precision    recall  f1-score      support\n",
      "False          0.827121  0.971136  0.893362  1074.000000\n",
      "True           0.586667  0.167939  0.261128   262.000000\n",
      "accuracy       0.813623  0.813623  0.813623     0.813623\n",
      "macro avg      0.706894  0.569537  0.577245  1336.000000\n",
      "weighted avg   0.779966  0.813623  0.769376  1336.000000\n"
     ]
    }
   ],
   "source": [
    "rf_clf = Pipeline([\n",
    "    ('vect', TfidfVectorizer()),\n",
    "    ('clf', RandomForestClassifier(n_estimators=100)),\n",
    "])\n",
    "\n",
    "rf_clf.fit(train_X, train_y)\n",
    "\n",
    "train_pred = rf_clf.predict(train_X)\n",
    "train_report = classification_report(train_y, train_pred, output_dict=True)\n",
    "train_report_df = pd.DataFrame(train_report).transpose()\n",
    "print(\"Random Forest - Train Classification Report:\")\n",
    "print(train_report_df)\n",
    "\n",
    "test_pred = rf_clf.predict(test_X)\n",
    "\n",
    "test_report = classification_report(test_y, test_pred, output_dict=True)\n",
    "test_report_df = pd.DataFrame(test_report).transpose()\n",
    "print(\"\\nRandom Forest - Test Classification Report:\")\n",
    "print(test_report_df)"
   ]
  },
  {
   "cell_type": "code",
   "execution_count": null,
   "metadata": {
    "colab": {
     "base_uri": "https://localhost:8080/"
    },
    "id": "-COuYotceV6r",
    "outputId": "41086f84-a1eb-4149-ff8d-0a268b280280"
   },
   "outputs": [
    {
     "name": "stdout",
     "output_type": "stream",
     "text": [
      "SVM - Train Classification Report:\n",
      "              precision    recall  f1-score      support\n",
      "False          0.898209  0.992548  0.943025  4294.000000\n",
      "True           0.946399  0.539122  0.686930  1048.000000\n",
      "accuracy       0.903594  0.903594  0.903594     0.903594\n",
      "macro avg      0.922304  0.765835  0.814977  5342.000000\n",
      "weighted avg   0.907663  0.903594  0.892784  5342.000000\n",
      "\n",
      "SVM - Test Classification Report:\n",
      "              precision    recall  f1-score      support\n",
      "False          0.827504  0.969274  0.892796  1074.000000\n",
      "True           0.576923  0.171756  0.264706   262.000000\n",
      "accuracy       0.812874  0.812874  0.812874     0.812874\n",
      "macro avg      0.702214  0.570515  0.578751  1336.000000\n",
      "weighted avg   0.778363  0.812874  0.769623  1336.000000\n"
     ]
    }
   ],
   "source": [
    "svm_clf = Pipeline([\n",
    "    ('vect', TfidfVectorizer()),\n",
    "    ('clf', SVC(kernel='linear')),\n",
    "])\n",
    "\n",
    "svm_clf.fit(train_X, train_y)\n",
    "\n",
    "train_pred = svm_clf.predict(train_X)\n",
    "train_report = classification_report(train_y, train_pred, output_dict=True)\n",
    "train_report_df = pd.DataFrame(train_report).transpose()\n",
    "print(\"SVM - Train Classification Report:\")\n",
    "print(train_report_df)\n",
    "\n",
    "test_pred = svm_clf.predict(test_X)\n",
    "test_report = classification_report(test_y, test_pred, output_dict=True)\n",
    "test_report_df = pd.DataFrame(test_report).transpose()\n",
    "print(\"\\nSVM - Test Classification Report:\")\n",
    "print(test_report_df)\n"
   ]
  },
  {
   "cell_type": "code",
   "execution_count": null,
   "metadata": {
    "colab": {
     "base_uri": "https://localhost:8080/"
    },
    "id": "K6589HM1eV6s",
    "outputId": "f53da3e6-6ca3-4825-e05f-5182abbe120f"
   },
   "outputs": [
    {
     "name": "stdout",
     "output_type": "stream",
     "text": [
      "Gradient Boosting - Train Classification Report:\n",
      "              precision    recall  f1-score      support\n",
      "False          0.839146  0.997438  0.911471  4294.000000\n",
      "True           0.953782  0.216603  0.353033  1048.000000\n",
      "accuracy       0.844253  0.844253  0.844253     0.844253\n",
      "macro avg      0.896464  0.607021  0.632252  5342.000000\n",
      "weighted avg   0.861635  0.844253  0.801916  5342.000000\n",
      "\n",
      "Gradient Boosting - Test Classification Report:\n",
      "              precision    recall  f1-score      support\n",
      "False          0.825311  0.989758  0.900085  1074.000000\n",
      "True           0.770833  0.141221  0.238710   262.000000\n",
      "accuracy       0.823353  0.823353  0.823353     0.823353\n",
      "macro avg      0.798072  0.565490  0.569397  1336.000000\n",
      "weighted avg   0.814627  0.823353  0.770384  1336.000000\n"
     ]
    }
   ],
   "source": [
    "gb_clf = Pipeline([\n",
    "    ('vect', TfidfVectorizer()),\n",
    "    ('clf', GradientBoostingClassifier()),\n",
    "])\n",
    "\n",
    "gb_clf.fit(train_X, train_y)\n",
    "\n",
    "train_pred = gb_clf.predict(train_X)\n",
    "train_report = classification_report(train_y, train_pred, output_dict=True)\n",
    "train_report_df = pd.DataFrame(train_report).transpose()\n",
    "print(\"Gradient Boosting - Train Classification Report:\")\n",
    "print(train_report_df)\n",
    "\n",
    "test_pred = gb_clf.predict(test_X)\n",
    "test_report = classification_report(test_y, test_pred, output_dict=True)\n",
    "test_report_df = pd.DataFrame(test_report).transpose()\n",
    "print(\"\\nGradient Boosting - Test Classification Report:\")\n",
    "print(test_report_df)\n"
   ]
  },
  {
   "cell_type": "markdown",
   "metadata": {
    "id": "2A5CdDt97l8t"
   },
   "source": [
    "# Topic Modeling"
   ]
  },
  {
   "cell_type": "code",
   "execution_count": null,
   "metadata": {
    "id": "Rqo9an0bevkd"
   },
   "outputs": [],
   "source": [
    "documents = df['comment'].values\n"
   ]
  },
  {
   "cell_type": "code",
   "execution_count": null,
   "metadata": {
    "colab": {
     "base_uri": "https://localhost:8080/",
     "height": 266,
     "referenced_widgets": [
      "90add110692a4039b9adb5c959e53a72",
      "9906fe6f66f945bea230ff50a0b2d4ac",
      "6f8ecd12e8664b2eb6184cb7e3efe45b",
      "c6c664d3cc6a4fe98513fb5396a0df62",
      "970c015c540c48bcbca814401a5945ac",
      "4e8297e11fe0494f9e46105bb6b22aa2",
      "9f17109d1865444dbf29d047fe1d30f8",
      "037f6037e9104d73b63bd8b6350e6bcf",
      "2de6ba422da1425d8d7aea531cb3d215",
      "5783165cd1734620b7bfec822ae2882c",
      "fe739a81d9ed4e3f899c1e457bb86600",
      "1399aa4e0aa4495bb6e0ed7195d4bd7c",
      "9ca1839d29bc4c35a805d79baa1a7318",
      "00dae522c3824701a4bb8e16786d7b3e",
      "10d18680d5ac4da9899ea2a144d352c0",
      "1bfc193d72cd47928e0031c39a625892",
      "54b9dc7d592e4792b4194f002a1ba7ae",
      "36a37d110845429e9740dcf45ed7aa13",
      "ad0962421eea4c6da5beff02c0dce89a",
      "50d0034cfb6e4fa2b77a990b55d97f29",
      "c2ca8cce9b0a4eb3832cff4f2d09e769",
      "10ec9707eaa44be18a7c23824855337e",
      "7b47d9e780014d6d9ba7b936c3199c75",
      "54c3f92e7fb346b981789b8a29b0e34c",
      "215ea8a066464be08ab780880b223017",
      "227180cab0a6420a8be51bc5a04668f0",
      "32bc612e142d4589acd29513aa24b2f5",
      "9dacc35e71af4c298b5f57db8a915d58",
      "990cd5eb3d1f4d81841cdbe5b87be59c",
      "7e14d6823bbc4f009d05b747db5f8951",
      "b195620cdf61415898423dd9e4dedc1d",
      "6d9f3393d23e4d59900386465b1bf94a",
      "a645371559eb47bfb2e7713f2d926c0d",
      "24d4e59b95764ee48f0325db87196abe",
      "606e25a603e54e4a8e751cd6a193c89c",
      "44c583c461d942cd958f8d52894fcbcb",
      "7e79d6a9810042a2abb1180790ada213",
      "087d06107c474f1fb65383a8f3b88714",
      "32b37114fccd4d2094f0f700b3640cdd",
      "5a358a550ba340b68b898ece81cf0995",
      "740ca8048fbb45e6b61ad33e638ff564",
      "ceda1cf5b502421b87bea1f81f73973d",
      "9c2745cb9b5c4df9b1d445a46af7246e",
      "c97e1f82d8a74ca8b659d524ed071d3b",
      "c2024535095f41a884bd2125136ae02d",
      "a6d9906cfe06423fad07cb04525ab190",
      "d00c99b870254658984649b30ee987c8",
      "8459d9f8c9ac4f1ab7bd8ad77f4c2455",
      "aaa0fa7689a049e7b96d36edcd868759",
      "307c9e7afee94e39a30ad5889c2fc61f",
      "d1e01c2a27ac425fa28caab00c12886d",
      "dfa5fc4e5a94476899c6e8191d0f4100",
      "709f2d136458433fbecde1a6d2a9b94f",
      "4823b9ff420c46cb87989ba91ec5a0b3",
      "612d3453ab474f808d16cb4f4030dfd3",
      "0b106139810c4ae1b82f92e41ee8a487",
      "a4adbdae0f9a443383c69027f1df5662",
      "9029f4e92a824b95a6981ef3c360058b",
      "0545c323f3ed47a38be34095a7df110c",
      "7e7122a04e104a18934daed697fa2375",
      "1839bf32069a47cfafda0e15844200ca",
      "aae1a324884b404fa33ddb1003b02ef9",
      "1c333f846d2643f18afa81080bc7f035",
      "58fc5dc773a94205a4c953eec2a77157",
      "4f5c931467fd47239679640203c3250d",
      "6d58d1279f3f4823b8e7b619081fe023"
     ]
    },
    "id": "mX1wTP90evre",
    "outputId": "862f2ee3-4b74-4a2f-9b27-9fe95651dd3a"
   },
   "outputs": [
    {
     "data": {
      "application/vnd.jupyter.widget-view+json": {
       "model_id": "90add110692a4039b9adb5c959e53a72",
       "version_major": 2,
       "version_minor": 0
      },
      "text/plain": [
       "tokenizer_config.json:   0%|          | 0.00/292 [00:00<?, ?B/s]"
      ]
     },
     "metadata": {},
     "output_type": "display_data"
    },
    {
     "data": {
      "application/vnd.jupyter.widget-view+json": {
       "model_id": "1399aa4e0aa4495bb6e0ed7195d4bd7c",
       "version_major": 2,
       "version_minor": 0
      },
      "text/plain": [
       "config.json:   0%|          | 0.00/565 [00:00<?, ?B/s]"
      ]
     },
     "metadata": {},
     "output_type": "display_data"
    },
    {
     "data": {
      "application/vnd.jupyter.widget-view+json": {
       "model_id": "7b47d9e780014d6d9ba7b936c3199c75",
       "version_major": 2,
       "version_minor": 0
      },
      "text/plain": [
       "vocab.txt:   0%|          | 0.00/426k [00:00<?, ?B/s]"
      ]
     },
     "metadata": {},
     "output_type": "display_data"
    },
    {
     "data": {
      "application/vnd.jupyter.widget-view+json": {
       "model_id": "24d4e59b95764ee48f0325db87196abe",
       "version_major": 2,
       "version_minor": 0
      },
      "text/plain": [
       "tokenizer.json:   0%|          | 0.00/1.11M [00:00<?, ?B/s]"
      ]
     },
     "metadata": {},
     "output_type": "display_data"
    },
    {
     "data": {
      "application/vnd.jupyter.widget-view+json": {
       "model_id": "c2024535095f41a884bd2125136ae02d",
       "version_major": 2,
       "version_minor": 0
      },
      "text/plain": [
       "special_tokens_map.json:   0%|          | 0.00/134 [00:00<?, ?B/s]"
      ]
     },
     "metadata": {},
     "output_type": "display_data"
    },
    {
     "data": {
      "application/vnd.jupyter.widget-view+json": {
       "model_id": "0b106139810c4ae1b82f92e41ee8a487",
       "version_major": 2,
       "version_minor": 0
      },
      "text/plain": [
       "pytorch_model.bin:   0%|          | 0.00/473M [00:00<?, ?B/s]"
      ]
     },
     "metadata": {},
     "output_type": "display_data"
    },
    {
     "name": "stderr",
     "output_type": "stream",
     "text": [
      "Some weights of BertModel were not initialized from the model checkpoint at HooshvareLab/bert-fa-zwnj-base and are newly initialized: ['bert.pooler.dense.bias', 'bert.pooler.dense.weight']\n",
      "You should probably TRAIN this model on a down-stream task to be able to use it for predictions and inference.\n"
     ]
    }
   ],
   "source": [
    "\n",
    "model_name = \"HooshvareLab/bert-fa-zwnj-base\"\n",
    "tokenizer = AutoTokenizer.from_pretrained(model_name)\n",
    "model = AutoModel.from_pretrained(model_name).to(\"cuda\")\n",
    "model = TransformerDocumentEmbeddings(\"HooshvareLab/bert-fa-zwnj-base\")\n",
    "\n",
    "# Initialize BERTopic with the embedding model\n",
    "topic_model = BERTopic(language=\"persian\", calculate_probabilities=False, embedding_model=model)"
   ]
  },
  {
   "cell_type": "code",
   "execution_count": null,
   "metadata": {
    "colab": {
     "base_uri": "https://localhost:8080/",
     "height": 206
    },
    "id": "REvKsedWot11",
    "outputId": "c2782a4a-4d79-472b-ca38-7113fc29ce62"
   },
   "outputs": [
    {
     "data": {
      "application/vnd.google.colaboratory.intrinsic+json": {
       "summary": "{\n  \"name\": \"topic_model\",\n  \"rows\": 5,\n  \"fields\": [\n    {\n      \"column\": \"Topic\",\n      \"properties\": {\n        \"dtype\": \"number\",\n        \"std\": 1,\n        \"min\": -1,\n        \"max\": 3,\n        \"num_unique_values\": 5,\n        \"samples\": [\n          0,\n          3,\n          1\n        ],\n        \"semantic_type\": \"\",\n        \"description\": \"\"\n      }\n    },\n    {\n      \"column\": \"Count\",\n      \"properties\": {\n        \"dtype\": \"number\",\n        \"std\": 905,\n        \"min\": 301,\n        \"max\": 2435,\n        \"num_unique_values\": 5,\n        \"samples\": [\n          1023,\n          301,\n          443\n        ],\n        \"semantic_type\": \"\",\n        \"description\": \"\"\n      }\n    }\n  ]\n}",
       "type": "dataframe"
      },
      "text/html": [
       "\n",
       "  <div id=\"df-7c934965-e1a9-4ed8-9719-6ed331e6b917\" class=\"colab-df-container\">\n",
       "    <div>\n",
       "<style scoped>\n",
       "    .dataframe tbody tr th:only-of-type {\n",
       "        vertical-align: middle;\n",
       "    }\n",
       "\n",
       "    .dataframe tbody tr th {\n",
       "        vertical-align: top;\n",
       "    }\n",
       "\n",
       "    .dataframe thead th {\n",
       "        text-align: right;\n",
       "    }\n",
       "</style>\n",
       "<table border=\"1\" class=\"dataframe\">\n",
       "  <thead>\n",
       "    <tr style=\"text-align: right;\">\n",
       "      <th></th>\n",
       "      <th>Topic</th>\n",
       "      <th>Count</th>\n",
       "    </tr>\n",
       "  </thead>\n",
       "  <tbody>\n",
       "    <tr>\n",
       "      <th>1</th>\n",
       "      <td>-1</td>\n",
       "      <td>2435</td>\n",
       "    </tr>\n",
       "    <tr>\n",
       "      <th>0</th>\n",
       "      <td>0</td>\n",
       "      <td>1023</td>\n",
       "    </tr>\n",
       "    <tr>\n",
       "      <th>14</th>\n",
       "      <td>1</td>\n",
       "      <td>443</td>\n",
       "    </tr>\n",
       "    <tr>\n",
       "      <th>9</th>\n",
       "      <td>2</td>\n",
       "      <td>317</td>\n",
       "    </tr>\n",
       "    <tr>\n",
       "      <th>24</th>\n",
       "      <td>3</td>\n",
       "      <td>301</td>\n",
       "    </tr>\n",
       "  </tbody>\n",
       "</table>\n",
       "</div>\n",
       "    <div class=\"colab-df-buttons\">\n",
       "\n",
       "  <div class=\"colab-df-container\">\n",
       "    <button class=\"colab-df-convert\" onclick=\"convertToInteractive('df-7c934965-e1a9-4ed8-9719-6ed331e6b917')\"\n",
       "            title=\"Convert this dataframe to an interactive table.\"\n",
       "            style=\"display:none;\">\n",
       "\n",
       "  <svg xmlns=\"http://www.w3.org/2000/svg\" height=\"24px\" viewBox=\"0 -960 960 960\">\n",
       "    <path d=\"M120-120v-720h720v720H120Zm60-500h600v-160H180v160Zm220 220h160v-160H400v160Zm0 220h160v-160H400v160ZM180-400h160v-160H180v160Zm440 0h160v-160H620v160ZM180-180h160v-160H180v160Zm440 0h160v-160H620v160Z\"/>\n",
       "  </svg>\n",
       "    </button>\n",
       "\n",
       "  <style>\n",
       "    .colab-df-container {\n",
       "      display:flex;\n",
       "      gap: 12px;\n",
       "    }\n",
       "\n",
       "    .colab-df-convert {\n",
       "      background-color: #E8F0FE;\n",
       "      border: none;\n",
       "      border-radius: 50%;\n",
       "      cursor: pointer;\n",
       "      display: none;\n",
       "      fill: #1967D2;\n",
       "      height: 32px;\n",
       "      padding: 0 0 0 0;\n",
       "      width: 32px;\n",
       "    }\n",
       "\n",
       "    .colab-df-convert:hover {\n",
       "      background-color: #E2EBFA;\n",
       "      box-shadow: 0px 1px 2px rgba(60, 64, 67, 0.3), 0px 1px 3px 1px rgba(60, 64, 67, 0.15);\n",
       "      fill: #174EA6;\n",
       "    }\n",
       "\n",
       "    .colab-df-buttons div {\n",
       "      margin-bottom: 4px;\n",
       "    }\n",
       "\n",
       "    [theme=dark] .colab-df-convert {\n",
       "      background-color: #3B4455;\n",
       "      fill: #D2E3FC;\n",
       "    }\n",
       "\n",
       "    [theme=dark] .colab-df-convert:hover {\n",
       "      background-color: #434B5C;\n",
       "      box-shadow: 0px 1px 3px 1px rgba(0, 0, 0, 0.15);\n",
       "      filter: drop-shadow(0px 1px 2px rgba(0, 0, 0, 0.3));\n",
       "      fill: #FFFFFF;\n",
       "    }\n",
       "  </style>\n",
       "\n",
       "    <script>\n",
       "      const buttonEl =\n",
       "        document.querySelector('#df-7c934965-e1a9-4ed8-9719-6ed331e6b917 button.colab-df-convert');\n",
       "      buttonEl.style.display =\n",
       "        google.colab.kernel.accessAllowed ? 'block' : 'none';\n",
       "\n",
       "      async function convertToInteractive(key) {\n",
       "        const element = document.querySelector('#df-7c934965-e1a9-4ed8-9719-6ed331e6b917');\n",
       "        const dataTable =\n",
       "          await google.colab.kernel.invokeFunction('convertToInteractive',\n",
       "                                                    [key], {});\n",
       "        if (!dataTable) return;\n",
       "\n",
       "        const docLinkHtml = 'Like what you see? Visit the ' +\n",
       "          '<a target=\"_blank\" href=https://colab.research.google.com/notebooks/data_table.ipynb>data table notebook</a>'\n",
       "          + ' to learn more about interactive tables.';\n",
       "        element.innerHTML = '';\n",
       "        dataTable['output_type'] = 'display_data';\n",
       "        await google.colab.output.renderOutput(dataTable, element);\n",
       "        const docLink = document.createElement('div');\n",
       "        docLink.innerHTML = docLinkHtml;\n",
       "        element.appendChild(docLink);\n",
       "      }\n",
       "    </script>\n",
       "  </div>\n",
       "\n",
       "\n",
       "<div id=\"df-cee9f73e-5018-4b3b-ade3-c01caf2f180a\">\n",
       "  <button class=\"colab-df-quickchart\" onclick=\"quickchart('df-cee9f73e-5018-4b3b-ade3-c01caf2f180a')\"\n",
       "            title=\"Suggest charts\"\n",
       "            style=\"display:none;\">\n",
       "\n",
       "<svg xmlns=\"http://www.w3.org/2000/svg\" height=\"24px\"viewBox=\"0 0 24 24\"\n",
       "     width=\"24px\">\n",
       "    <g>\n",
       "        <path d=\"M19 3H5c-1.1 0-2 .9-2 2v14c0 1.1.9 2 2 2h14c1.1 0 2-.9 2-2V5c0-1.1-.9-2-2-2zM9 17H7v-7h2v7zm4 0h-2V7h2v10zm4 0h-2v-4h2v4z\"/>\n",
       "    </g>\n",
       "</svg>\n",
       "  </button>\n",
       "\n",
       "<style>\n",
       "  .colab-df-quickchart {\n",
       "      --bg-color: #E8F0FE;\n",
       "      --fill-color: #1967D2;\n",
       "      --hover-bg-color: #E2EBFA;\n",
       "      --hover-fill-color: #174EA6;\n",
       "      --disabled-fill-color: #AAA;\n",
       "      --disabled-bg-color: #DDD;\n",
       "  }\n",
       "\n",
       "  [theme=dark] .colab-df-quickchart {\n",
       "      --bg-color: #3B4455;\n",
       "      --fill-color: #D2E3FC;\n",
       "      --hover-bg-color: #434B5C;\n",
       "      --hover-fill-color: #FFFFFF;\n",
       "      --disabled-bg-color: #3B4455;\n",
       "      --disabled-fill-color: #666;\n",
       "  }\n",
       "\n",
       "  .colab-df-quickchart {\n",
       "    background-color: var(--bg-color);\n",
       "    border: none;\n",
       "    border-radius: 50%;\n",
       "    cursor: pointer;\n",
       "    display: none;\n",
       "    fill: var(--fill-color);\n",
       "    height: 32px;\n",
       "    padding: 0;\n",
       "    width: 32px;\n",
       "  }\n",
       "\n",
       "  .colab-df-quickchart:hover {\n",
       "    background-color: var(--hover-bg-color);\n",
       "    box-shadow: 0 1px 2px rgba(60, 64, 67, 0.3), 0 1px 3px 1px rgba(60, 64, 67, 0.15);\n",
       "    fill: var(--button-hover-fill-color);\n",
       "  }\n",
       "\n",
       "  .colab-df-quickchart-complete:disabled,\n",
       "  .colab-df-quickchart-complete:disabled:hover {\n",
       "    background-color: var(--disabled-bg-color);\n",
       "    fill: var(--disabled-fill-color);\n",
       "    box-shadow: none;\n",
       "  }\n",
       "\n",
       "  .colab-df-spinner {\n",
       "    border: 2px solid var(--fill-color);\n",
       "    border-color: transparent;\n",
       "    border-bottom-color: var(--fill-color);\n",
       "    animation:\n",
       "      spin 1s steps(1) infinite;\n",
       "  }\n",
       "\n",
       "  @keyframes spin {\n",
       "    0% {\n",
       "      border-color: transparent;\n",
       "      border-bottom-color: var(--fill-color);\n",
       "      border-left-color: var(--fill-color);\n",
       "    }\n",
       "    20% {\n",
       "      border-color: transparent;\n",
       "      border-left-color: var(--fill-color);\n",
       "      border-top-color: var(--fill-color);\n",
       "    }\n",
       "    30% {\n",
       "      border-color: transparent;\n",
       "      border-left-color: var(--fill-color);\n",
       "      border-top-color: var(--fill-color);\n",
       "      border-right-color: var(--fill-color);\n",
       "    }\n",
       "    40% {\n",
       "      border-color: transparent;\n",
       "      border-right-color: var(--fill-color);\n",
       "      border-top-color: var(--fill-color);\n",
       "    }\n",
       "    60% {\n",
       "      border-color: transparent;\n",
       "      border-right-color: var(--fill-color);\n",
       "    }\n",
       "    80% {\n",
       "      border-color: transparent;\n",
       "      border-right-color: var(--fill-color);\n",
       "      border-bottom-color: var(--fill-color);\n",
       "    }\n",
       "    90% {\n",
       "      border-color: transparent;\n",
       "      border-bottom-color: var(--fill-color);\n",
       "    }\n",
       "  }\n",
       "</style>\n",
       "\n",
       "  <script>\n",
       "    async function quickchart(key) {\n",
       "      const quickchartButtonEl =\n",
       "        document.querySelector('#' + key + ' button');\n",
       "      quickchartButtonEl.disabled = true;  // To prevent multiple clicks.\n",
       "      quickchartButtonEl.classList.add('colab-df-spinner');\n",
       "      try {\n",
       "        const charts = await google.colab.kernel.invokeFunction(\n",
       "            'suggestCharts', [key], {});\n",
       "      } catch (error) {\n",
       "        console.error('Error during call to suggestCharts:', error);\n",
       "      }\n",
       "      quickchartButtonEl.classList.remove('colab-df-spinner');\n",
       "      quickchartButtonEl.classList.add('colab-df-quickchart-complete');\n",
       "    }\n",
       "    (() => {\n",
       "      let quickchartButtonEl =\n",
       "        document.querySelector('#df-cee9f73e-5018-4b3b-ade3-c01caf2f180a button');\n",
       "      quickchartButtonEl.style.display =\n",
       "        google.colab.kernel.accessAllowed ? 'block' : 'none';\n",
       "    })();\n",
       "  </script>\n",
       "</div>\n",
       "    </div>\n",
       "  </div>\n"
      ],
      "text/plain": [
       "    Topic  Count\n",
       "1      -1   2435\n",
       "0       0   1023\n",
       "14      1    443\n",
       "9       2    317\n",
       "24      3    301"
      ]
     },
     "execution_count": 74,
     "metadata": {},
     "output_type": "execute_result"
    }
   ],
   "source": [
    "topics, probs = topic_model.fit_transform(documents)\n",
    "topic_model.get_topic_freq().head(5)"
   ]
  },
  {
   "cell_type": "code",
   "execution_count": null,
   "metadata": {
    "colab": {
     "base_uri": "https://localhost:8080/"
    },
    "id": "7NFShQx_o7ZX",
    "outputId": "da6b23f6-26a2-445c-ee21-8db34a4ce53d"
   },
   "outputs": [
    {
     "data": {
      "text/plain": [
       "[['اقای', 'ایران', 'کنکور', 'تاثیر', 'رشیدپور'],\n",
       " ['سلام', 'بخیر', 'رشید', 'پور', 'ممنون']]"
      ]
     },
     "execution_count": 81,
     "metadata": {},
     "output_type": "execute_result"
    }
   ],
   "source": [
    "\n",
    "def has_letters_and_numbers(text):\n",
    "    return bool(re.search(r'[a-zA-Z0-9]', text))\n",
    "\n",
    "bert_topic_0 = []\n",
    "bert_topic_1 = []\n",
    "\n",
    "for i in topic_model.get_topic(-1):\n",
    "    if not has_letters_and_numbers(i[0]):\n",
    "        bert_topic_0.append(i[0])\n",
    "\n",
    "for i in topic_model.get_topic(0):\n",
    "    if not has_letters_and_numbers(i[0]):\n",
    "        bert_topic_1.append(i[0])\n",
    "\n",
    "\n",
    "bert_topic = [bert_topic_0[:-5], bert_topic_1[:-5]]\n",
    "bert_topic"
   ]
  },
  {
   "cell_type": "code",
   "execution_count": null,
   "metadata": {
    "id": "vdfWkvY4gOcJ"
   },
   "outputs": [],
   "source": [
    "def lda_topic_modeling(documents, n_topics=2):\n",
    "    vectorizer = CountVectorizer()\n",
    "    doc_term_matrix = vectorizer.fit_transform(documents)\n",
    "\n",
    "    lda = LatentDirichletAllocation(n_components=n_topics, random_state=42)\n",
    "    lda.fit(doc_term_matrix)\n",
    "\n",
    "    return lda.components_\n",
    "\n",
    "def lsa_topic_modeling(documents, n_topics=2):\n",
    "    vectorizer = TfidfVectorizer()\n",
    "    doc_term_matrix = vectorizer.fit_transform(documents)\n",
    "\n",
    "    lsa = TruncatedSVD(n_components=n_topics, random_state=42)\n",
    "    lsa.fit(doc_term_matrix)\n",
    "\n",
    "    return lsa.components_\n",
    "\n",
    "def nmf_topic_modeling(documents, n_topics=2):\n",
    "    vectorizer = TfidfVectorizer()\n",
    "    doc_term_matrix = vectorizer.fit_transform(documents)\n",
    "\n",
    "    nmf = NMF(n_components=n_topics, random_state=42)\n",
    "    nmf.fit(doc_term_matrix)\n",
    "\n",
    "    return nmf.components_\n"
   ]
  },
  {
   "cell_type": "code",
   "execution_count": null,
   "metadata": {
    "id": "Y9845nPgiq2E"
   },
   "outputs": [],
   "source": [
    "topics_dict = {\n",
    "    'LDA': [],\n",
    "    'LSA': [],\n",
    "    'NMF': [],\n",
    "    'bert': bert_topic\n",
    "}\n",
    "\n",
    "lda_topic = lda_topic_modeling(documents)\n",
    "lsa_topic = lsa_topic_modeling(documents)\n",
    "nmf_topic = nmf_topic_modeling(documents)\n",
    "\n",
    "vectorizer = TfidfVectorizer()\n",
    "doc_term_matrix = vectorizer.fit_transform(documents)\n",
    "\n",
    "for model_name, model in zip(['LDA', 'LSA', 'NMF'], [lda_topic, lsa_topic, nmf_topic]):\n",
    "    for index, topic in enumerate(model):\n",
    "        topics_dict[model_name].append([vectorizer.get_feature_names_out()[i] for i in topic.argsort()[-5:]])\n"
   ]
  },
  {
   "cell_type": "code",
   "execution_count": null,
   "metadata": {
    "id": "6iXjNSF8iq71"
   },
   "outputs": [],
   "source": [
    "df_topic = pd.DataFrame.from_dict({k: pd.Series(v) for k, v in topics_dict.items()}, orient='index').transpose()"
   ]
  },
  {
   "cell_type": "code",
   "execution_count": null,
   "metadata": {
    "colab": {
     "base_uri": "https://localhost:8080/",
     "height": 112
    },
    "id": "bYIXRHzqi7Wm",
    "outputId": "bec8b266-16d0-4bd2-df87-0d023f11416f"
   },
   "outputs": [
    {
     "data": {
      "application/vnd.google.colaboratory.intrinsic+json": {
       "summary": "{\n  \"name\": \"df_topic\",\n  \"rows\": 2,\n  \"fields\": [\n    {\n      \"column\": \"LDA\",\n      \"properties\": {\n        \"dtype\": \"object\",\n        \"semantic_type\": \"\",\n        \"description\": \"\"\n      }\n    },\n    {\n      \"column\": \"LSA\",\n      \"properties\": {\n        \"dtype\": \"object\",\n        \"semantic_type\": \"\",\n        \"description\": \"\"\n      }\n    },\n    {\n      \"column\": \"NMF\",\n      \"properties\": {\n        \"dtype\": \"object\",\n        \"semantic_type\": \"\",\n        \"description\": \"\"\n      }\n    },\n    {\n      \"column\": \"bert\",\n      \"properties\": {\n        \"dtype\": \"object\",\n        \"semantic_type\": \"\",\n        \"description\": \"\"\n      }\n    }\n  ]\n}",
       "type": "dataframe",
       "variable_name": "df_topic"
      },
      "text/html": [
       "\n",
       "  <div id=\"df-72a7bb4d-4c67-4a90-b1cf-d0cfaa068789\" class=\"colab-df-container\">\n",
       "    <div>\n",
       "<style scoped>\n",
       "    .dataframe tbody tr th:only-of-type {\n",
       "        vertical-align: middle;\n",
       "    }\n",
       "\n",
       "    .dataframe tbody tr th {\n",
       "        vertical-align: top;\n",
       "    }\n",
       "\n",
       "    .dataframe thead th {\n",
       "        text-align: right;\n",
       "    }\n",
       "</style>\n",
       "<table border=\"1\" class=\"dataframe\">\n",
       "  <thead>\n",
       "    <tr style=\"text-align: right;\">\n",
       "      <th></th>\n",
       "      <th>LDA</th>\n",
       "      <th>LSA</th>\n",
       "      <th>NMF</th>\n",
       "      <th>bert</th>\n",
       "    </tr>\n",
       "  </thead>\n",
       "  <tbody>\n",
       "    <tr>\n",
       "      <th>0</th>\n",
       "      <td>[باشید, باش, رشیدپور, خورشید, سلام]</td>\n",
       "      <td>[رضا, سلام, اقای, پور, رشید]</td>\n",
       "      <td>[رضا, سلام, اقای, پور, رشید]</td>\n",
       "      <td>[اقای, ایران, کنکور, تاثیر, رشیدپور]</td>\n",
       "    </tr>\n",
       "    <tr>\n",
       "      <th>1</th>\n",
       "      <td>[خدا, سلام, اقای, پور, رشید]</td>\n",
       "      <td>[ممنون, رشیدپور, سلام, برنامتون, عالیه]</td>\n",
       "      <td>[ممنون, رشیدپور, سلام, برنامتون, عالیه]</td>\n",
       "      <td>[سلام, بخیر, رشید, پور, ممنون]</td>\n",
       "    </tr>\n",
       "  </tbody>\n",
       "</table>\n",
       "</div>\n",
       "    <div class=\"colab-df-buttons\">\n",
       "\n",
       "  <div class=\"colab-df-container\">\n",
       "    <button class=\"colab-df-convert\" onclick=\"convertToInteractive('df-72a7bb4d-4c67-4a90-b1cf-d0cfaa068789')\"\n",
       "            title=\"Convert this dataframe to an interactive table.\"\n",
       "            style=\"display:none;\">\n",
       "\n",
       "  <svg xmlns=\"http://www.w3.org/2000/svg\" height=\"24px\" viewBox=\"0 -960 960 960\">\n",
       "    <path d=\"M120-120v-720h720v720H120Zm60-500h600v-160H180v160Zm220 220h160v-160H400v160Zm0 220h160v-160H400v160ZM180-400h160v-160H180v160Zm440 0h160v-160H620v160ZM180-180h160v-160H180v160Zm440 0h160v-160H620v160Z\"/>\n",
       "  </svg>\n",
       "    </button>\n",
       "\n",
       "  <style>\n",
       "    .colab-df-container {\n",
       "      display:flex;\n",
       "      gap: 12px;\n",
       "    }\n",
       "\n",
       "    .colab-df-convert {\n",
       "      background-color: #E8F0FE;\n",
       "      border: none;\n",
       "      border-radius: 50%;\n",
       "      cursor: pointer;\n",
       "      display: none;\n",
       "      fill: #1967D2;\n",
       "      height: 32px;\n",
       "      padding: 0 0 0 0;\n",
       "      width: 32px;\n",
       "    }\n",
       "\n",
       "    .colab-df-convert:hover {\n",
       "      background-color: #E2EBFA;\n",
       "      box-shadow: 0px 1px 2px rgba(60, 64, 67, 0.3), 0px 1px 3px 1px rgba(60, 64, 67, 0.15);\n",
       "      fill: #174EA6;\n",
       "    }\n",
       "\n",
       "    .colab-df-buttons div {\n",
       "      margin-bottom: 4px;\n",
       "    }\n",
       "\n",
       "    [theme=dark] .colab-df-convert {\n",
       "      background-color: #3B4455;\n",
       "      fill: #D2E3FC;\n",
       "    }\n",
       "\n",
       "    [theme=dark] .colab-df-convert:hover {\n",
       "      background-color: #434B5C;\n",
       "      box-shadow: 0px 1px 3px 1px rgba(0, 0, 0, 0.15);\n",
       "      filter: drop-shadow(0px 1px 2px rgba(0, 0, 0, 0.3));\n",
       "      fill: #FFFFFF;\n",
       "    }\n",
       "  </style>\n",
       "\n",
       "    <script>\n",
       "      const buttonEl =\n",
       "        document.querySelector('#df-72a7bb4d-4c67-4a90-b1cf-d0cfaa068789 button.colab-df-convert');\n",
       "      buttonEl.style.display =\n",
       "        google.colab.kernel.accessAllowed ? 'block' : 'none';\n",
       "\n",
       "      async function convertToInteractive(key) {\n",
       "        const element = document.querySelector('#df-72a7bb4d-4c67-4a90-b1cf-d0cfaa068789');\n",
       "        const dataTable =\n",
       "          await google.colab.kernel.invokeFunction('convertToInteractive',\n",
       "                                                    [key], {});\n",
       "        if (!dataTable) return;\n",
       "\n",
       "        const docLinkHtml = 'Like what you see? Visit the ' +\n",
       "          '<a target=\"_blank\" href=https://colab.research.google.com/notebooks/data_table.ipynb>data table notebook</a>'\n",
       "          + ' to learn more about interactive tables.';\n",
       "        element.innerHTML = '';\n",
       "        dataTable['output_type'] = 'display_data';\n",
       "        await google.colab.output.renderOutput(dataTable, element);\n",
       "        const docLink = document.createElement('div');\n",
       "        docLink.innerHTML = docLinkHtml;\n",
       "        element.appendChild(docLink);\n",
       "      }\n",
       "    </script>\n",
       "  </div>\n",
       "\n",
       "\n",
       "<div id=\"df-73fa0061-a15c-4418-afdc-4977656d7103\">\n",
       "  <button class=\"colab-df-quickchart\" onclick=\"quickchart('df-73fa0061-a15c-4418-afdc-4977656d7103')\"\n",
       "            title=\"Suggest charts\"\n",
       "            style=\"display:none;\">\n",
       "\n",
       "<svg xmlns=\"http://www.w3.org/2000/svg\" height=\"24px\"viewBox=\"0 0 24 24\"\n",
       "     width=\"24px\">\n",
       "    <g>\n",
       "        <path d=\"M19 3H5c-1.1 0-2 .9-2 2v14c0 1.1.9 2 2 2h14c1.1 0 2-.9 2-2V5c0-1.1-.9-2-2-2zM9 17H7v-7h2v7zm4 0h-2V7h2v10zm4 0h-2v-4h2v4z\"/>\n",
       "    </g>\n",
       "</svg>\n",
       "  </button>\n",
       "\n",
       "<style>\n",
       "  .colab-df-quickchart {\n",
       "      --bg-color: #E8F0FE;\n",
       "      --fill-color: #1967D2;\n",
       "      --hover-bg-color: #E2EBFA;\n",
       "      --hover-fill-color: #174EA6;\n",
       "      --disabled-fill-color: #AAA;\n",
       "      --disabled-bg-color: #DDD;\n",
       "  }\n",
       "\n",
       "  [theme=dark] .colab-df-quickchart {\n",
       "      --bg-color: #3B4455;\n",
       "      --fill-color: #D2E3FC;\n",
       "      --hover-bg-color: #434B5C;\n",
       "      --hover-fill-color: #FFFFFF;\n",
       "      --disabled-bg-color: #3B4455;\n",
       "      --disabled-fill-color: #666;\n",
       "  }\n",
       "\n",
       "  .colab-df-quickchart {\n",
       "    background-color: var(--bg-color);\n",
       "    border: none;\n",
       "    border-radius: 50%;\n",
       "    cursor: pointer;\n",
       "    display: none;\n",
       "    fill: var(--fill-color);\n",
       "    height: 32px;\n",
       "    padding: 0;\n",
       "    width: 32px;\n",
       "  }\n",
       "\n",
       "  .colab-df-quickchart:hover {\n",
       "    background-color: var(--hover-bg-color);\n",
       "    box-shadow: 0 1px 2px rgba(60, 64, 67, 0.3), 0 1px 3px 1px rgba(60, 64, 67, 0.15);\n",
       "    fill: var(--button-hover-fill-color);\n",
       "  }\n",
       "\n",
       "  .colab-df-quickchart-complete:disabled,\n",
       "  .colab-df-quickchart-complete:disabled:hover {\n",
       "    background-color: var(--disabled-bg-color);\n",
       "    fill: var(--disabled-fill-color);\n",
       "    box-shadow: none;\n",
       "  }\n",
       "\n",
       "  .colab-df-spinner {\n",
       "    border: 2px solid var(--fill-color);\n",
       "    border-color: transparent;\n",
       "    border-bottom-color: var(--fill-color);\n",
       "    animation:\n",
       "      spin 1s steps(1) infinite;\n",
       "  }\n",
       "\n",
       "  @keyframes spin {\n",
       "    0% {\n",
       "      border-color: transparent;\n",
       "      border-bottom-color: var(--fill-color);\n",
       "      border-left-color: var(--fill-color);\n",
       "    }\n",
       "    20% {\n",
       "      border-color: transparent;\n",
       "      border-left-color: var(--fill-color);\n",
       "      border-top-color: var(--fill-color);\n",
       "    }\n",
       "    30% {\n",
       "      border-color: transparent;\n",
       "      border-left-color: var(--fill-color);\n",
       "      border-top-color: var(--fill-color);\n",
       "      border-right-color: var(--fill-color);\n",
       "    }\n",
       "    40% {\n",
       "      border-color: transparent;\n",
       "      border-right-color: var(--fill-color);\n",
       "      border-top-color: var(--fill-color);\n",
       "    }\n",
       "    60% {\n",
       "      border-color: transparent;\n",
       "      border-right-color: var(--fill-color);\n",
       "    }\n",
       "    80% {\n",
       "      border-color: transparent;\n",
       "      border-right-color: var(--fill-color);\n",
       "      border-bottom-color: var(--fill-color);\n",
       "    }\n",
       "    90% {\n",
       "      border-color: transparent;\n",
       "      border-bottom-color: var(--fill-color);\n",
       "    }\n",
       "  }\n",
       "</style>\n",
       "\n",
       "  <script>\n",
       "    async function quickchart(key) {\n",
       "      const quickchartButtonEl =\n",
       "        document.querySelector('#' + key + ' button');\n",
       "      quickchartButtonEl.disabled = true;  // To prevent multiple clicks.\n",
       "      quickchartButtonEl.classList.add('colab-df-spinner');\n",
       "      try {\n",
       "        const charts = await google.colab.kernel.invokeFunction(\n",
       "            'suggestCharts', [key], {});\n",
       "      } catch (error) {\n",
       "        console.error('Error during call to suggestCharts:', error);\n",
       "      }\n",
       "      quickchartButtonEl.classList.remove('colab-df-spinner');\n",
       "      quickchartButtonEl.classList.add('colab-df-quickchart-complete');\n",
       "    }\n",
       "    (() => {\n",
       "      let quickchartButtonEl =\n",
       "        document.querySelector('#df-73fa0061-a15c-4418-afdc-4977656d7103 button');\n",
       "      quickchartButtonEl.style.display =\n",
       "        google.colab.kernel.accessAllowed ? 'block' : 'none';\n",
       "    })();\n",
       "  </script>\n",
       "</div>\n",
       "    </div>\n",
       "  </div>\n"
      ],
      "text/plain": [
       "                                   LDA  \\\n",
       "0  [باشید, باش, رشیدپور, خورشید, سلام]   \n",
       "1         [خدا, سلام, اقای, پور, رشید]   \n",
       "\n",
       "                                       LSA  \\\n",
       "0             [رضا, سلام, اقای, پور, رشید]   \n",
       "1  [ممنون, رشیدپور, سلام, برنامتون, عالیه]   \n",
       "\n",
       "                                       NMF  \\\n",
       "0             [رضا, سلام, اقای, پور, رشید]   \n",
       "1  [ممنون, رشیدپور, سلام, برنامتون, عالیه]   \n",
       "\n",
       "                                   bert  \n",
       "0  [اقای, ایران, کنکور, تاثیر, رشیدپور]  \n",
       "1        [سلام, بخیر, رشید, پور, ممنون]  "
      ]
     },
     "execution_count": 87,
     "metadata": {},
     "output_type": "execute_result"
    }
   ],
   "source": [
    "df_topic"
   ]
  },
  {
   "cell_type": "code",
   "execution_count": null,
   "metadata": {
    "id": "WGZ-DGcJUYIJ"
   },
   "outputs": [],
   "source": []
  }
 ],
 "metadata": {
  "accelerator": "GPU",
  "colab": {
   "gpuType": "T4",
   "include_colab_link": true,
   "provenance": []
  },
  "kaggle": {
   "accelerator": "none",
   "dataSources": [
    {
     "datasetId": 4345588,
     "sourceId": 7465505,
     "sourceType": "datasetVersion"
    }
   ],
   "dockerImageVersionId": 30761,
   "isGpuEnabled": false,
   "isInternetEnabled": false,
   "language": "python",
   "sourceType": "notebook"
  },
  "kernelspec": {
   "display_name": "env",
   "language": "python",
   "name": "python3"
  },
  "language_info": {
   "codemirror_mode": {
    "name": "ipython",
    "version": 3
   },
   "file_extension": ".py",
   "mimetype": "text/x-python",
   "name": "python",
   "nbconvert_exporter": "python",
   "pygments_lexer": "ipython3",
   "version": "3.11.0"
  },
  "widgets": {
   "application/vnd.jupyter.widget-state+json": {
    "00dae522c3824701a4bb8e16786d7b3e": {
     "model_module": "@jupyter-widgets/controls",
     "model_module_version": "1.5.0",
     "model_name": "FloatProgressModel",
     "state": {
      "_dom_classes": [],
      "_model_module": "@jupyter-widgets/controls",
      "_model_module_version": "1.5.0",
      "_model_name": "FloatProgressModel",
      "_view_count": null,
      "_view_module": "@jupyter-widgets/controls",
      "_view_module_version": "1.5.0",
      "_view_name": "ProgressView",
      "bar_style": "success",
      "description": "",
      "description_tooltip": null,
      "layout": "IPY_MODEL_ad0962421eea4c6da5beff02c0dce89a",
      "max": 565,
      "min": 0,
      "orientation": "horizontal",
      "style": "IPY_MODEL_50d0034cfb6e4fa2b77a990b55d97f29",
      "value": 565
     }
    },
    "037f6037e9104d73b63bd8b6350e6bcf": {
     "model_module": "@jupyter-widgets/base",
     "model_module_version": "1.2.0",
     "model_name": "LayoutModel",
     "state": {
      "_model_module": "@jupyter-widgets/base",
      "_model_module_version": "1.2.0",
      "_model_name": "LayoutModel",
      "_view_count": null,
      "_view_module": "@jupyter-widgets/base",
      "_view_module_version": "1.2.0",
      "_view_name": "LayoutView",
      "align_content": null,
      "align_items": null,
      "align_self": null,
      "border": null,
      "bottom": null,
      "display": null,
      "flex": null,
      "flex_flow": null,
      "grid_area": null,
      "grid_auto_columns": null,
      "grid_auto_flow": null,
      "grid_auto_rows": null,
      "grid_column": null,
      "grid_gap": null,
      "grid_row": null,
      "grid_template_areas": null,
      "grid_template_columns": null,
      "grid_template_rows": null,
      "height": null,
      "justify_content": null,
      "justify_items": null,
      "left": null,
      "margin": null,
      "max_height": null,
      "max_width": null,
      "min_height": null,
      "min_width": null,
      "object_fit": null,
      "object_position": null,
      "order": null,
      "overflow": null,
      "overflow_x": null,
      "overflow_y": null,
      "padding": null,
      "right": null,
      "top": null,
      "visibility": null,
      "width": null
     }
    },
    "0545c323f3ed47a38be34095a7df110c": {
     "model_module": "@jupyter-widgets/controls",
     "model_module_version": "1.5.0",
     "model_name": "HTMLModel",
     "state": {
      "_dom_classes": [],
      "_model_module": "@jupyter-widgets/controls",
      "_model_module_version": "1.5.0",
      "_model_name": "HTMLModel",
      "_view_count": null,
      "_view_module": "@jupyter-widgets/controls",
      "_view_module_version": "1.5.0",
      "_view_name": "HTMLView",
      "description": "",
      "description_tooltip": null,
      "layout": "IPY_MODEL_4f5c931467fd47239679640203c3250d",
      "placeholder": "​",
      "style": "IPY_MODEL_6d58d1279f3f4823b8e7b619081fe023",
      "value": " 473M/473M [00:10&lt;00:00, 87.5MB/s]"
     }
    },
    "087d06107c474f1fb65383a8f3b88714": {
     "model_module": "@jupyter-widgets/base",
     "model_module_version": "1.2.0",
     "model_name": "LayoutModel",
     "state": {
      "_model_module": "@jupyter-widgets/base",
      "_model_module_version": "1.2.0",
      "_model_name": "LayoutModel",
      "_view_count": null,
      "_view_module": "@jupyter-widgets/base",
      "_view_module_version": "1.2.0",
      "_view_name": "LayoutView",
      "align_content": null,
      "align_items": null,
      "align_self": null,
      "border": null,
      "bottom": null,
      "display": null,
      "flex": null,
      "flex_flow": null,
      "grid_area": null,
      "grid_auto_columns": null,
      "grid_auto_flow": null,
      "grid_auto_rows": null,
      "grid_column": null,
      "grid_gap": null,
      "grid_row": null,
      "grid_template_areas": null,
      "grid_template_columns": null,
      "grid_template_rows": null,
      "height": null,
      "justify_content": null,
      "justify_items": null,
      "left": null,
      "margin": null,
      "max_height": null,
      "max_width": null,
      "min_height": null,
      "min_width": null,
      "object_fit": null,
      "object_position": null,
      "order": null,
      "overflow": null,
      "overflow_x": null,
      "overflow_y": null,
      "padding": null,
      "right": null,
      "top": null,
      "visibility": null,
      "width": null
     }
    },
    "0b106139810c4ae1b82f92e41ee8a487": {
     "model_module": "@jupyter-widgets/controls",
     "model_module_version": "1.5.0",
     "model_name": "HBoxModel",
     "state": {
      "_dom_classes": [],
      "_model_module": "@jupyter-widgets/controls",
      "_model_module_version": "1.5.0",
      "_model_name": "HBoxModel",
      "_view_count": null,
      "_view_module": "@jupyter-widgets/controls",
      "_view_module_version": "1.5.0",
      "_view_name": "HBoxView",
      "box_style": "",
      "children": [
       "IPY_MODEL_a4adbdae0f9a443383c69027f1df5662",
       "IPY_MODEL_9029f4e92a824b95a6981ef3c360058b",
       "IPY_MODEL_0545c323f3ed47a38be34095a7df110c"
      ],
      "layout": "IPY_MODEL_7e7122a04e104a18934daed697fa2375"
     }
    },
    "10d18680d5ac4da9899ea2a144d352c0": {
     "model_module": "@jupyter-widgets/controls",
     "model_module_version": "1.5.0",
     "model_name": "HTMLModel",
     "state": {
      "_dom_classes": [],
      "_model_module": "@jupyter-widgets/controls",
      "_model_module_version": "1.5.0",
      "_model_name": "HTMLModel",
      "_view_count": null,
      "_view_module": "@jupyter-widgets/controls",
      "_view_module_version": "1.5.0",
      "_view_name": "HTMLView",
      "description": "",
      "description_tooltip": null,
      "layout": "IPY_MODEL_c2ca8cce9b0a4eb3832cff4f2d09e769",
      "placeholder": "​",
      "style": "IPY_MODEL_10ec9707eaa44be18a7c23824855337e",
      "value": " 565/565 [00:00&lt;00:00, 44.9kB/s]"
     }
    },
    "10ec9707eaa44be18a7c23824855337e": {
     "model_module": "@jupyter-widgets/controls",
     "model_module_version": "1.5.0",
     "model_name": "DescriptionStyleModel",
     "state": {
      "_model_module": "@jupyter-widgets/controls",
      "_model_module_version": "1.5.0",
      "_model_name": "DescriptionStyleModel",
      "_view_count": null,
      "_view_module": "@jupyter-widgets/base",
      "_view_module_version": "1.2.0",
      "_view_name": "StyleView",
      "description_width": ""
     }
    },
    "1399aa4e0aa4495bb6e0ed7195d4bd7c": {
     "model_module": "@jupyter-widgets/controls",
     "model_module_version": "1.5.0",
     "model_name": "HBoxModel",
     "state": {
      "_dom_classes": [],
      "_model_module": "@jupyter-widgets/controls",
      "_model_module_version": "1.5.0",
      "_model_name": "HBoxModel",
      "_view_count": null,
      "_view_module": "@jupyter-widgets/controls",
      "_view_module_version": "1.5.0",
      "_view_name": "HBoxView",
      "box_style": "",
      "children": [
       "IPY_MODEL_9ca1839d29bc4c35a805d79baa1a7318",
       "IPY_MODEL_00dae522c3824701a4bb8e16786d7b3e",
       "IPY_MODEL_10d18680d5ac4da9899ea2a144d352c0"
      ],
      "layout": "IPY_MODEL_1bfc193d72cd47928e0031c39a625892"
     }
    },
    "1839bf32069a47cfafda0e15844200ca": {
     "model_module": "@jupyter-widgets/base",
     "model_module_version": "1.2.0",
     "model_name": "LayoutModel",
     "state": {
      "_model_module": "@jupyter-widgets/base",
      "_model_module_version": "1.2.0",
      "_model_name": "LayoutModel",
      "_view_count": null,
      "_view_module": "@jupyter-widgets/base",
      "_view_module_version": "1.2.0",
      "_view_name": "LayoutView",
      "align_content": null,
      "align_items": null,
      "align_self": null,
      "border": null,
      "bottom": null,
      "display": null,
      "flex": null,
      "flex_flow": null,
      "grid_area": null,
      "grid_auto_columns": null,
      "grid_auto_flow": null,
      "grid_auto_rows": null,
      "grid_column": null,
      "grid_gap": null,
      "grid_row": null,
      "grid_template_areas": null,
      "grid_template_columns": null,
      "grid_template_rows": null,
      "height": null,
      "justify_content": null,
      "justify_items": null,
      "left": null,
      "margin": null,
      "max_height": null,
      "max_width": null,
      "min_height": null,
      "min_width": null,
      "object_fit": null,
      "object_position": null,
      "order": null,
      "overflow": null,
      "overflow_x": null,
      "overflow_y": null,
      "padding": null,
      "right": null,
      "top": null,
      "visibility": null,
      "width": null
     }
    },
    "1bfc193d72cd47928e0031c39a625892": {
     "model_module": "@jupyter-widgets/base",
     "model_module_version": "1.2.0",
     "model_name": "LayoutModel",
     "state": {
      "_model_module": "@jupyter-widgets/base",
      "_model_module_version": "1.2.0",
      "_model_name": "LayoutModel",
      "_view_count": null,
      "_view_module": "@jupyter-widgets/base",
      "_view_module_version": "1.2.0",
      "_view_name": "LayoutView",
      "align_content": null,
      "align_items": null,
      "align_self": null,
      "border": null,
      "bottom": null,
      "display": null,
      "flex": null,
      "flex_flow": null,
      "grid_area": null,
      "grid_auto_columns": null,
      "grid_auto_flow": null,
      "grid_auto_rows": null,
      "grid_column": null,
      "grid_gap": null,
      "grid_row": null,
      "grid_template_areas": null,
      "grid_template_columns": null,
      "grid_template_rows": null,
      "height": null,
      "justify_content": null,
      "justify_items": null,
      "left": null,
      "margin": null,
      "max_height": null,
      "max_width": null,
      "min_height": null,
      "min_width": null,
      "object_fit": null,
      "object_position": null,
      "order": null,
      "overflow": null,
      "overflow_x": null,
      "overflow_y": null,
      "padding": null,
      "right": null,
      "top": null,
      "visibility": null,
      "width": null
     }
    },
    "1c333f846d2643f18afa81080bc7f035": {
     "model_module": "@jupyter-widgets/base",
     "model_module_version": "1.2.0",
     "model_name": "LayoutModel",
     "state": {
      "_model_module": "@jupyter-widgets/base",
      "_model_module_version": "1.2.0",
      "_model_name": "LayoutModel",
      "_view_count": null,
      "_view_module": "@jupyter-widgets/base",
      "_view_module_version": "1.2.0",
      "_view_name": "LayoutView",
      "align_content": null,
      "align_items": null,
      "align_self": null,
      "border": null,
      "bottom": null,
      "display": null,
      "flex": null,
      "flex_flow": null,
      "grid_area": null,
      "grid_auto_columns": null,
      "grid_auto_flow": null,
      "grid_auto_rows": null,
      "grid_column": null,
      "grid_gap": null,
      "grid_row": null,
      "grid_template_areas": null,
      "grid_template_columns": null,
      "grid_template_rows": null,
      "height": null,
      "justify_content": null,
      "justify_items": null,
      "left": null,
      "margin": null,
      "max_height": null,
      "max_width": null,
      "min_height": null,
      "min_width": null,
      "object_fit": null,
      "object_position": null,
      "order": null,
      "overflow": null,
      "overflow_x": null,
      "overflow_y": null,
      "padding": null,
      "right": null,
      "top": null,
      "visibility": null,
      "width": null
     }
    },
    "215ea8a066464be08ab780880b223017": {
     "model_module": "@jupyter-widgets/controls",
     "model_module_version": "1.5.0",
     "model_name": "FloatProgressModel",
     "state": {
      "_dom_classes": [],
      "_model_module": "@jupyter-widgets/controls",
      "_model_module_version": "1.5.0",
      "_model_name": "FloatProgressModel",
      "_view_count": null,
      "_view_module": "@jupyter-widgets/controls",
      "_view_module_version": "1.5.0",
      "_view_name": "ProgressView",
      "bar_style": "success",
      "description": "",
      "description_tooltip": null,
      "layout": "IPY_MODEL_7e14d6823bbc4f009d05b747db5f8951",
      "max": 426422,
      "min": 0,
      "orientation": "horizontal",
      "style": "IPY_MODEL_b195620cdf61415898423dd9e4dedc1d",
      "value": 426422
     }
    },
    "227180cab0a6420a8be51bc5a04668f0": {
     "model_module": "@jupyter-widgets/controls",
     "model_module_version": "1.5.0",
     "model_name": "HTMLModel",
     "state": {
      "_dom_classes": [],
      "_model_module": "@jupyter-widgets/controls",
      "_model_module_version": "1.5.0",
      "_model_name": "HTMLModel",
      "_view_count": null,
      "_view_module": "@jupyter-widgets/controls",
      "_view_module_version": "1.5.0",
      "_view_name": "HTMLView",
      "description": "",
      "description_tooltip": null,
      "layout": "IPY_MODEL_6d9f3393d23e4d59900386465b1bf94a",
      "placeholder": "​",
      "style": "IPY_MODEL_a645371559eb47bfb2e7713f2d926c0d",
      "value": " 426k/426k [00:00&lt;00:00, 2.20MB/s]"
     }
    },
    "24d4e59b95764ee48f0325db87196abe": {
     "model_module": "@jupyter-widgets/controls",
     "model_module_version": "1.5.0",
     "model_name": "HBoxModel",
     "state": {
      "_dom_classes": [],
      "_model_module": "@jupyter-widgets/controls",
      "_model_module_version": "1.5.0",
      "_model_name": "HBoxModel",
      "_view_count": null,
      "_view_module": "@jupyter-widgets/controls",
      "_view_module_version": "1.5.0",
      "_view_name": "HBoxView",
      "box_style": "",
      "children": [
       "IPY_MODEL_606e25a603e54e4a8e751cd6a193c89c",
       "IPY_MODEL_44c583c461d942cd958f8d52894fcbcb",
       "IPY_MODEL_7e79d6a9810042a2abb1180790ada213"
      ],
      "layout": "IPY_MODEL_087d06107c474f1fb65383a8f3b88714"
     }
    },
    "2de6ba422da1425d8d7aea531cb3d215": {
     "model_module": "@jupyter-widgets/controls",
     "model_module_version": "1.5.0",
     "model_name": "ProgressStyleModel",
     "state": {
      "_model_module": "@jupyter-widgets/controls",
      "_model_module_version": "1.5.0",
      "_model_name": "ProgressStyleModel",
      "_view_count": null,
      "_view_module": "@jupyter-widgets/base",
      "_view_module_version": "1.2.0",
      "_view_name": "StyleView",
      "bar_color": null,
      "description_width": ""
     }
    },
    "307c9e7afee94e39a30ad5889c2fc61f": {
     "model_module": "@jupyter-widgets/base",
     "model_module_version": "1.2.0",
     "model_name": "LayoutModel",
     "state": {
      "_model_module": "@jupyter-widgets/base",
      "_model_module_version": "1.2.0",
      "_model_name": "LayoutModel",
      "_view_count": null,
      "_view_module": "@jupyter-widgets/base",
      "_view_module_version": "1.2.0",
      "_view_name": "LayoutView",
      "align_content": null,
      "align_items": null,
      "align_self": null,
      "border": null,
      "bottom": null,
      "display": null,
      "flex": null,
      "flex_flow": null,
      "grid_area": null,
      "grid_auto_columns": null,
      "grid_auto_flow": null,
      "grid_auto_rows": null,
      "grid_column": null,
      "grid_gap": null,
      "grid_row": null,
      "grid_template_areas": null,
      "grid_template_columns": null,
      "grid_template_rows": null,
      "height": null,
      "justify_content": null,
      "justify_items": null,
      "left": null,
      "margin": null,
      "max_height": null,
      "max_width": null,
      "min_height": null,
      "min_width": null,
      "object_fit": null,
      "object_position": null,
      "order": null,
      "overflow": null,
      "overflow_x": null,
      "overflow_y": null,
      "padding": null,
      "right": null,
      "top": null,
      "visibility": null,
      "width": null
     }
    },
    "32b37114fccd4d2094f0f700b3640cdd": {
     "model_module": "@jupyter-widgets/base",
     "model_module_version": "1.2.0",
     "model_name": "LayoutModel",
     "state": {
      "_model_module": "@jupyter-widgets/base",
      "_model_module_version": "1.2.0",
      "_model_name": "LayoutModel",
      "_view_count": null,
      "_view_module": "@jupyter-widgets/base",
      "_view_module_version": "1.2.0",
      "_view_name": "LayoutView",
      "align_content": null,
      "align_items": null,
      "align_self": null,
      "border": null,
      "bottom": null,
      "display": null,
      "flex": null,
      "flex_flow": null,
      "grid_area": null,
      "grid_auto_columns": null,
      "grid_auto_flow": null,
      "grid_auto_rows": null,
      "grid_column": null,
      "grid_gap": null,
      "grid_row": null,
      "grid_template_areas": null,
      "grid_template_columns": null,
      "grid_template_rows": null,
      "height": null,
      "justify_content": null,
      "justify_items": null,
      "left": null,
      "margin": null,
      "max_height": null,
      "max_width": null,
      "min_height": null,
      "min_width": null,
      "object_fit": null,
      "object_position": null,
      "order": null,
      "overflow": null,
      "overflow_x": null,
      "overflow_y": null,
      "padding": null,
      "right": null,
      "top": null,
      "visibility": null,
      "width": null
     }
    },
    "32bc612e142d4589acd29513aa24b2f5": {
     "model_module": "@jupyter-widgets/base",
     "model_module_version": "1.2.0",
     "model_name": "LayoutModel",
     "state": {
      "_model_module": "@jupyter-widgets/base",
      "_model_module_version": "1.2.0",
      "_model_name": "LayoutModel",
      "_view_count": null,
      "_view_module": "@jupyter-widgets/base",
      "_view_module_version": "1.2.0",
      "_view_name": "LayoutView",
      "align_content": null,
      "align_items": null,
      "align_self": null,
      "border": null,
      "bottom": null,
      "display": null,
      "flex": null,
      "flex_flow": null,
      "grid_area": null,
      "grid_auto_columns": null,
      "grid_auto_flow": null,
      "grid_auto_rows": null,
      "grid_column": null,
      "grid_gap": null,
      "grid_row": null,
      "grid_template_areas": null,
      "grid_template_columns": null,
      "grid_template_rows": null,
      "height": null,
      "justify_content": null,
      "justify_items": null,
      "left": null,
      "margin": null,
      "max_height": null,
      "max_width": null,
      "min_height": null,
      "min_width": null,
      "object_fit": null,
      "object_position": null,
      "order": null,
      "overflow": null,
      "overflow_x": null,
      "overflow_y": null,
      "padding": null,
      "right": null,
      "top": null,
      "visibility": null,
      "width": null
     }
    },
    "36a37d110845429e9740dcf45ed7aa13": {
     "model_module": "@jupyter-widgets/controls",
     "model_module_version": "1.5.0",
     "model_name": "DescriptionStyleModel",
     "state": {
      "_model_module": "@jupyter-widgets/controls",
      "_model_module_version": "1.5.0",
      "_model_name": "DescriptionStyleModel",
      "_view_count": null,
      "_view_module": "@jupyter-widgets/base",
      "_view_module_version": "1.2.0",
      "_view_name": "StyleView",
      "description_width": ""
     }
    },
    "44c583c461d942cd958f8d52894fcbcb": {
     "model_module": "@jupyter-widgets/controls",
     "model_module_version": "1.5.0",
     "model_name": "FloatProgressModel",
     "state": {
      "_dom_classes": [],
      "_model_module": "@jupyter-widgets/controls",
      "_model_module_version": "1.5.0",
      "_model_name": "FloatProgressModel",
      "_view_count": null,
      "_view_module": "@jupyter-widgets/controls",
      "_view_module_version": "1.5.0",
      "_view_name": "ProgressView",
      "bar_style": "success",
      "description": "",
      "description_tooltip": null,
      "layout": "IPY_MODEL_740ca8048fbb45e6b61ad33e638ff564",
      "max": 1108824,
      "min": 0,
      "orientation": "horizontal",
      "style": "IPY_MODEL_ceda1cf5b502421b87bea1f81f73973d",
      "value": 1108824
     }
    },
    "4823b9ff420c46cb87989ba91ec5a0b3": {
     "model_module": "@jupyter-widgets/base",
     "model_module_version": "1.2.0",
     "model_name": "LayoutModel",
     "state": {
      "_model_module": "@jupyter-widgets/base",
      "_model_module_version": "1.2.0",
      "_model_name": "LayoutModel",
      "_view_count": null,
      "_view_module": "@jupyter-widgets/base",
      "_view_module_version": "1.2.0",
      "_view_name": "LayoutView",
      "align_content": null,
      "align_items": null,
      "align_self": null,
      "border": null,
      "bottom": null,
      "display": null,
      "flex": null,
      "flex_flow": null,
      "grid_area": null,
      "grid_auto_columns": null,
      "grid_auto_flow": null,
      "grid_auto_rows": null,
      "grid_column": null,
      "grid_gap": null,
      "grid_row": null,
      "grid_template_areas": null,
      "grid_template_columns": null,
      "grid_template_rows": null,
      "height": null,
      "justify_content": null,
      "justify_items": null,
      "left": null,
      "margin": null,
      "max_height": null,
      "max_width": null,
      "min_height": null,
      "min_width": null,
      "object_fit": null,
      "object_position": null,
      "order": null,
      "overflow": null,
      "overflow_x": null,
      "overflow_y": null,
      "padding": null,
      "right": null,
      "top": null,
      "visibility": null,
      "width": null
     }
    },
    "4e8297e11fe0494f9e46105bb6b22aa2": {
     "model_module": "@jupyter-widgets/base",
     "model_module_version": "1.2.0",
     "model_name": "LayoutModel",
     "state": {
      "_model_module": "@jupyter-widgets/base",
      "_model_module_version": "1.2.0",
      "_model_name": "LayoutModel",
      "_view_count": null,
      "_view_module": "@jupyter-widgets/base",
      "_view_module_version": "1.2.0",
      "_view_name": "LayoutView",
      "align_content": null,
      "align_items": null,
      "align_self": null,
      "border": null,
      "bottom": null,
      "display": null,
      "flex": null,
      "flex_flow": null,
      "grid_area": null,
      "grid_auto_columns": null,
      "grid_auto_flow": null,
      "grid_auto_rows": null,
      "grid_column": null,
      "grid_gap": null,
      "grid_row": null,
      "grid_template_areas": null,
      "grid_template_columns": null,
      "grid_template_rows": null,
      "height": null,
      "justify_content": null,
      "justify_items": null,
      "left": null,
      "margin": null,
      "max_height": null,
      "max_width": null,
      "min_height": null,
      "min_width": null,
      "object_fit": null,
      "object_position": null,
      "order": null,
      "overflow": null,
      "overflow_x": null,
      "overflow_y": null,
      "padding": null,
      "right": null,
      "top": null,
      "visibility": null,
      "width": null
     }
    },
    "4f5c931467fd47239679640203c3250d": {
     "model_module": "@jupyter-widgets/base",
     "model_module_version": "1.2.0",
     "model_name": "LayoutModel",
     "state": {
      "_model_module": "@jupyter-widgets/base",
      "_model_module_version": "1.2.0",
      "_model_name": "LayoutModel",
      "_view_count": null,
      "_view_module": "@jupyter-widgets/base",
      "_view_module_version": "1.2.0",
      "_view_name": "LayoutView",
      "align_content": null,
      "align_items": null,
      "align_self": null,
      "border": null,
      "bottom": null,
      "display": null,
      "flex": null,
      "flex_flow": null,
      "grid_area": null,
      "grid_auto_columns": null,
      "grid_auto_flow": null,
      "grid_auto_rows": null,
      "grid_column": null,
      "grid_gap": null,
      "grid_row": null,
      "grid_template_areas": null,
      "grid_template_columns": null,
      "grid_template_rows": null,
      "height": null,
      "justify_content": null,
      "justify_items": null,
      "left": null,
      "margin": null,
      "max_height": null,
      "max_width": null,
      "min_height": null,
      "min_width": null,
      "object_fit": null,
      "object_position": null,
      "order": null,
      "overflow": null,
      "overflow_x": null,
      "overflow_y": null,
      "padding": null,
      "right": null,
      "top": null,
      "visibility": null,
      "width": null
     }
    },
    "50d0034cfb6e4fa2b77a990b55d97f29": {
     "model_module": "@jupyter-widgets/controls",
     "model_module_version": "1.5.0",
     "model_name": "ProgressStyleModel",
     "state": {
      "_model_module": "@jupyter-widgets/controls",
      "_model_module_version": "1.5.0",
      "_model_name": "ProgressStyleModel",
      "_view_count": null,
      "_view_module": "@jupyter-widgets/base",
      "_view_module_version": "1.2.0",
      "_view_name": "StyleView",
      "bar_color": null,
      "description_width": ""
     }
    },
    "54b9dc7d592e4792b4194f002a1ba7ae": {
     "model_module": "@jupyter-widgets/base",
     "model_module_version": "1.2.0",
     "model_name": "LayoutModel",
     "state": {
      "_model_module": "@jupyter-widgets/base",
      "_model_module_version": "1.2.0",
      "_model_name": "LayoutModel",
      "_view_count": null,
      "_view_module": "@jupyter-widgets/base",
      "_view_module_version": "1.2.0",
      "_view_name": "LayoutView",
      "align_content": null,
      "align_items": null,
      "align_self": null,
      "border": null,
      "bottom": null,
      "display": null,
      "flex": null,
      "flex_flow": null,
      "grid_area": null,
      "grid_auto_columns": null,
      "grid_auto_flow": null,
      "grid_auto_rows": null,
      "grid_column": null,
      "grid_gap": null,
      "grid_row": null,
      "grid_template_areas": null,
      "grid_template_columns": null,
      "grid_template_rows": null,
      "height": null,
      "justify_content": null,
      "justify_items": null,
      "left": null,
      "margin": null,
      "max_height": null,
      "max_width": null,
      "min_height": null,
      "min_width": null,
      "object_fit": null,
      "object_position": null,
      "order": null,
      "overflow": null,
      "overflow_x": null,
      "overflow_y": null,
      "padding": null,
      "right": null,
      "top": null,
      "visibility": null,
      "width": null
     }
    },
    "54c3f92e7fb346b981789b8a29b0e34c": {
     "model_module": "@jupyter-widgets/controls",
     "model_module_version": "1.5.0",
     "model_name": "HTMLModel",
     "state": {
      "_dom_classes": [],
      "_model_module": "@jupyter-widgets/controls",
      "_model_module_version": "1.5.0",
      "_model_name": "HTMLModel",
      "_view_count": null,
      "_view_module": "@jupyter-widgets/controls",
      "_view_module_version": "1.5.0",
      "_view_name": "HTMLView",
      "description": "",
      "description_tooltip": null,
      "layout": "IPY_MODEL_9dacc35e71af4c298b5f57db8a915d58",
      "placeholder": "​",
      "style": "IPY_MODEL_990cd5eb3d1f4d81841cdbe5b87be59c",
      "value": "vocab.txt: 100%"
     }
    },
    "5783165cd1734620b7bfec822ae2882c": {
     "model_module": "@jupyter-widgets/base",
     "model_module_version": "1.2.0",
     "model_name": "LayoutModel",
     "state": {
      "_model_module": "@jupyter-widgets/base",
      "_model_module_version": "1.2.0",
      "_model_name": "LayoutModel",
      "_view_count": null,
      "_view_module": "@jupyter-widgets/base",
      "_view_module_version": "1.2.0",
      "_view_name": "LayoutView",
      "align_content": null,
      "align_items": null,
      "align_self": null,
      "border": null,
      "bottom": null,
      "display": null,
      "flex": null,
      "flex_flow": null,
      "grid_area": null,
      "grid_auto_columns": null,
      "grid_auto_flow": null,
      "grid_auto_rows": null,
      "grid_column": null,
      "grid_gap": null,
      "grid_row": null,
      "grid_template_areas": null,
      "grid_template_columns": null,
      "grid_template_rows": null,
      "height": null,
      "justify_content": null,
      "justify_items": null,
      "left": null,
      "margin": null,
      "max_height": null,
      "max_width": null,
      "min_height": null,
      "min_width": null,
      "object_fit": null,
      "object_position": null,
      "order": null,
      "overflow": null,
      "overflow_x": null,
      "overflow_y": null,
      "padding": null,
      "right": null,
      "top": null,
      "visibility": null,
      "width": null
     }
    },
    "58fc5dc773a94205a4c953eec2a77157": {
     "model_module": "@jupyter-widgets/controls",
     "model_module_version": "1.5.0",
     "model_name": "ProgressStyleModel",
     "state": {
      "_model_module": "@jupyter-widgets/controls",
      "_model_module_version": "1.5.0",
      "_model_name": "ProgressStyleModel",
      "_view_count": null,
      "_view_module": "@jupyter-widgets/base",
      "_view_module_version": "1.2.0",
      "_view_name": "StyleView",
      "bar_color": null,
      "description_width": ""
     }
    },
    "5a358a550ba340b68b898ece81cf0995": {
     "model_module": "@jupyter-widgets/controls",
     "model_module_version": "1.5.0",
     "model_name": "DescriptionStyleModel",
     "state": {
      "_model_module": "@jupyter-widgets/controls",
      "_model_module_version": "1.5.0",
      "_model_name": "DescriptionStyleModel",
      "_view_count": null,
      "_view_module": "@jupyter-widgets/base",
      "_view_module_version": "1.2.0",
      "_view_name": "StyleView",
      "description_width": ""
     }
    },
    "606e25a603e54e4a8e751cd6a193c89c": {
     "model_module": "@jupyter-widgets/controls",
     "model_module_version": "1.5.0",
     "model_name": "HTMLModel",
     "state": {
      "_dom_classes": [],
      "_model_module": "@jupyter-widgets/controls",
      "_model_module_version": "1.5.0",
      "_model_name": "HTMLModel",
      "_view_count": null,
      "_view_module": "@jupyter-widgets/controls",
      "_view_module_version": "1.5.0",
      "_view_name": "HTMLView",
      "description": "",
      "description_tooltip": null,
      "layout": "IPY_MODEL_32b37114fccd4d2094f0f700b3640cdd",
      "placeholder": "​",
      "style": "IPY_MODEL_5a358a550ba340b68b898ece81cf0995",
      "value": "tokenizer.json: 100%"
     }
    },
    "612d3453ab474f808d16cb4f4030dfd3": {
     "model_module": "@jupyter-widgets/controls",
     "model_module_version": "1.5.0",
     "model_name": "DescriptionStyleModel",
     "state": {
      "_model_module": "@jupyter-widgets/controls",
      "_model_module_version": "1.5.0",
      "_model_name": "DescriptionStyleModel",
      "_view_count": null,
      "_view_module": "@jupyter-widgets/base",
      "_view_module_version": "1.2.0",
      "_view_name": "StyleView",
      "description_width": ""
     }
    },
    "6d58d1279f3f4823b8e7b619081fe023": {
     "model_module": "@jupyter-widgets/controls",
     "model_module_version": "1.5.0",
     "model_name": "DescriptionStyleModel",
     "state": {
      "_model_module": "@jupyter-widgets/controls",
      "_model_module_version": "1.5.0",
      "_model_name": "DescriptionStyleModel",
      "_view_count": null,
      "_view_module": "@jupyter-widgets/base",
      "_view_module_version": "1.2.0",
      "_view_name": "StyleView",
      "description_width": ""
     }
    },
    "6d9f3393d23e4d59900386465b1bf94a": {
     "model_module": "@jupyter-widgets/base",
     "model_module_version": "1.2.0",
     "model_name": "LayoutModel",
     "state": {
      "_model_module": "@jupyter-widgets/base",
      "_model_module_version": "1.2.0",
      "_model_name": "LayoutModel",
      "_view_count": null,
      "_view_module": "@jupyter-widgets/base",
      "_view_module_version": "1.2.0",
      "_view_name": "LayoutView",
      "align_content": null,
      "align_items": null,
      "align_self": null,
      "border": null,
      "bottom": null,
      "display": null,
      "flex": null,
      "flex_flow": null,
      "grid_area": null,
      "grid_auto_columns": null,
      "grid_auto_flow": null,
      "grid_auto_rows": null,
      "grid_column": null,
      "grid_gap": null,
      "grid_row": null,
      "grid_template_areas": null,
      "grid_template_columns": null,
      "grid_template_rows": null,
      "height": null,
      "justify_content": null,
      "justify_items": null,
      "left": null,
      "margin": null,
      "max_height": null,
      "max_width": null,
      "min_height": null,
      "min_width": null,
      "object_fit": null,
      "object_position": null,
      "order": null,
      "overflow": null,
      "overflow_x": null,
      "overflow_y": null,
      "padding": null,
      "right": null,
      "top": null,
      "visibility": null,
      "width": null
     }
    },
    "6f8ecd12e8664b2eb6184cb7e3efe45b": {
     "model_module": "@jupyter-widgets/controls",
     "model_module_version": "1.5.0",
     "model_name": "FloatProgressModel",
     "state": {
      "_dom_classes": [],
      "_model_module": "@jupyter-widgets/controls",
      "_model_module_version": "1.5.0",
      "_model_name": "FloatProgressModel",
      "_view_count": null,
      "_view_module": "@jupyter-widgets/controls",
      "_view_module_version": "1.5.0",
      "_view_name": "ProgressView",
      "bar_style": "success",
      "description": "",
      "description_tooltip": null,
      "layout": "IPY_MODEL_037f6037e9104d73b63bd8b6350e6bcf",
      "max": 292,
      "min": 0,
      "orientation": "horizontal",
      "style": "IPY_MODEL_2de6ba422da1425d8d7aea531cb3d215",
      "value": 292
     }
    },
    "709f2d136458433fbecde1a6d2a9b94f": {
     "model_module": "@jupyter-widgets/controls",
     "model_module_version": "1.5.0",
     "model_name": "ProgressStyleModel",
     "state": {
      "_model_module": "@jupyter-widgets/controls",
      "_model_module_version": "1.5.0",
      "_model_name": "ProgressStyleModel",
      "_view_count": null,
      "_view_module": "@jupyter-widgets/base",
      "_view_module_version": "1.2.0",
      "_view_name": "StyleView",
      "bar_color": null,
      "description_width": ""
     }
    },
    "740ca8048fbb45e6b61ad33e638ff564": {
     "model_module": "@jupyter-widgets/base",
     "model_module_version": "1.2.0",
     "model_name": "LayoutModel",
     "state": {
      "_model_module": "@jupyter-widgets/base",
      "_model_module_version": "1.2.0",
      "_model_name": "LayoutModel",
      "_view_count": null,
      "_view_module": "@jupyter-widgets/base",
      "_view_module_version": "1.2.0",
      "_view_name": "LayoutView",
      "align_content": null,
      "align_items": null,
      "align_self": null,
      "border": null,
      "bottom": null,
      "display": null,
      "flex": null,
      "flex_flow": null,
      "grid_area": null,
      "grid_auto_columns": null,
      "grid_auto_flow": null,
      "grid_auto_rows": null,
      "grid_column": null,
      "grid_gap": null,
      "grid_row": null,
      "grid_template_areas": null,
      "grid_template_columns": null,
      "grid_template_rows": null,
      "height": null,
      "justify_content": null,
      "justify_items": null,
      "left": null,
      "margin": null,
      "max_height": null,
      "max_width": null,
      "min_height": null,
      "min_width": null,
      "object_fit": null,
      "object_position": null,
      "order": null,
      "overflow": null,
      "overflow_x": null,
      "overflow_y": null,
      "padding": null,
      "right": null,
      "top": null,
      "visibility": null,
      "width": null
     }
    },
    "7b47d9e780014d6d9ba7b936c3199c75": {
     "model_module": "@jupyter-widgets/controls",
     "model_module_version": "1.5.0",
     "model_name": "HBoxModel",
     "state": {
      "_dom_classes": [],
      "_model_module": "@jupyter-widgets/controls",
      "_model_module_version": "1.5.0",
      "_model_name": "HBoxModel",
      "_view_count": null,
      "_view_module": "@jupyter-widgets/controls",
      "_view_module_version": "1.5.0",
      "_view_name": "HBoxView",
      "box_style": "",
      "children": [
       "IPY_MODEL_54c3f92e7fb346b981789b8a29b0e34c",
       "IPY_MODEL_215ea8a066464be08ab780880b223017",
       "IPY_MODEL_227180cab0a6420a8be51bc5a04668f0"
      ],
      "layout": "IPY_MODEL_32bc612e142d4589acd29513aa24b2f5"
     }
    },
    "7e14d6823bbc4f009d05b747db5f8951": {
     "model_module": "@jupyter-widgets/base",
     "model_module_version": "1.2.0",
     "model_name": "LayoutModel",
     "state": {
      "_model_module": "@jupyter-widgets/base",
      "_model_module_version": "1.2.0",
      "_model_name": "LayoutModel",
      "_view_count": null,
      "_view_module": "@jupyter-widgets/base",
      "_view_module_version": "1.2.0",
      "_view_name": "LayoutView",
      "align_content": null,
      "align_items": null,
      "align_self": null,
      "border": null,
      "bottom": null,
      "display": null,
      "flex": null,
      "flex_flow": null,
      "grid_area": null,
      "grid_auto_columns": null,
      "grid_auto_flow": null,
      "grid_auto_rows": null,
      "grid_column": null,
      "grid_gap": null,
      "grid_row": null,
      "grid_template_areas": null,
      "grid_template_columns": null,
      "grid_template_rows": null,
      "height": null,
      "justify_content": null,
      "justify_items": null,
      "left": null,
      "margin": null,
      "max_height": null,
      "max_width": null,
      "min_height": null,
      "min_width": null,
      "object_fit": null,
      "object_position": null,
      "order": null,
      "overflow": null,
      "overflow_x": null,
      "overflow_y": null,
      "padding": null,
      "right": null,
      "top": null,
      "visibility": null,
      "width": null
     }
    },
    "7e7122a04e104a18934daed697fa2375": {
     "model_module": "@jupyter-widgets/base",
     "model_module_version": "1.2.0",
     "model_name": "LayoutModel",
     "state": {
      "_model_module": "@jupyter-widgets/base",
      "_model_module_version": "1.2.0",
      "_model_name": "LayoutModel",
      "_view_count": null,
      "_view_module": "@jupyter-widgets/base",
      "_view_module_version": "1.2.0",
      "_view_name": "LayoutView",
      "align_content": null,
      "align_items": null,
      "align_self": null,
      "border": null,
      "bottom": null,
      "display": null,
      "flex": null,
      "flex_flow": null,
      "grid_area": null,
      "grid_auto_columns": null,
      "grid_auto_flow": null,
      "grid_auto_rows": null,
      "grid_column": null,
      "grid_gap": null,
      "grid_row": null,
      "grid_template_areas": null,
      "grid_template_columns": null,
      "grid_template_rows": null,
      "height": null,
      "justify_content": null,
      "justify_items": null,
      "left": null,
      "margin": null,
      "max_height": null,
      "max_width": null,
      "min_height": null,
      "min_width": null,
      "object_fit": null,
      "object_position": null,
      "order": null,
      "overflow": null,
      "overflow_x": null,
      "overflow_y": null,
      "padding": null,
      "right": null,
      "top": null,
      "visibility": null,
      "width": null
     }
    },
    "7e79d6a9810042a2abb1180790ada213": {
     "model_module": "@jupyter-widgets/controls",
     "model_module_version": "1.5.0",
     "model_name": "HTMLModel",
     "state": {
      "_dom_classes": [],
      "_model_module": "@jupyter-widgets/controls",
      "_model_module_version": "1.5.0",
      "_model_name": "HTMLModel",
      "_view_count": null,
      "_view_module": "@jupyter-widgets/controls",
      "_view_module_version": "1.5.0",
      "_view_name": "HTMLView",
      "description": "",
      "description_tooltip": null,
      "layout": "IPY_MODEL_9c2745cb9b5c4df9b1d445a46af7246e",
      "placeholder": "​",
      "style": "IPY_MODEL_c97e1f82d8a74ca8b659d524ed071d3b",
      "value": " 1.11M/1.11M [00:00&lt;00:00, 15.5MB/s]"
     }
    },
    "8459d9f8c9ac4f1ab7bd8ad77f4c2455": {
     "model_module": "@jupyter-widgets/controls",
     "model_module_version": "1.5.0",
     "model_name": "HTMLModel",
     "state": {
      "_dom_classes": [],
      "_model_module": "@jupyter-widgets/controls",
      "_model_module_version": "1.5.0",
      "_model_name": "HTMLModel",
      "_view_count": null,
      "_view_module": "@jupyter-widgets/controls",
      "_view_module_version": "1.5.0",
      "_view_name": "HTMLView",
      "description": "",
      "description_tooltip": null,
      "layout": "IPY_MODEL_4823b9ff420c46cb87989ba91ec5a0b3",
      "placeholder": "​",
      "style": "IPY_MODEL_612d3453ab474f808d16cb4f4030dfd3",
      "value": " 134/134 [00:00&lt;00:00, 10.2kB/s]"
     }
    },
    "9029f4e92a824b95a6981ef3c360058b": {
     "model_module": "@jupyter-widgets/controls",
     "model_module_version": "1.5.0",
     "model_name": "FloatProgressModel",
     "state": {
      "_dom_classes": [],
      "_model_module": "@jupyter-widgets/controls",
      "_model_module_version": "1.5.0",
      "_model_name": "FloatProgressModel",
      "_view_count": null,
      "_view_module": "@jupyter-widgets/controls",
      "_view_module_version": "1.5.0",
      "_view_name": "ProgressView",
      "bar_style": "success",
      "description": "",
      "description_tooltip": null,
      "layout": "IPY_MODEL_1c333f846d2643f18afa81080bc7f035",
      "max": 473451616,
      "min": 0,
      "orientation": "horizontal",
      "style": "IPY_MODEL_58fc5dc773a94205a4c953eec2a77157",
      "value": 473451616
     }
    },
    "90add110692a4039b9adb5c959e53a72": {
     "model_module": "@jupyter-widgets/controls",
     "model_module_version": "1.5.0",
     "model_name": "HBoxModel",
     "state": {
      "_dom_classes": [],
      "_model_module": "@jupyter-widgets/controls",
      "_model_module_version": "1.5.0",
      "_model_name": "HBoxModel",
      "_view_count": null,
      "_view_module": "@jupyter-widgets/controls",
      "_view_module_version": "1.5.0",
      "_view_name": "HBoxView",
      "box_style": "",
      "children": [
       "IPY_MODEL_9906fe6f66f945bea230ff50a0b2d4ac",
       "IPY_MODEL_6f8ecd12e8664b2eb6184cb7e3efe45b",
       "IPY_MODEL_c6c664d3cc6a4fe98513fb5396a0df62"
      ],
      "layout": "IPY_MODEL_970c015c540c48bcbca814401a5945ac"
     }
    },
    "970c015c540c48bcbca814401a5945ac": {
     "model_module": "@jupyter-widgets/base",
     "model_module_version": "1.2.0",
     "model_name": "LayoutModel",
     "state": {
      "_model_module": "@jupyter-widgets/base",
      "_model_module_version": "1.2.0",
      "_model_name": "LayoutModel",
      "_view_count": null,
      "_view_module": "@jupyter-widgets/base",
      "_view_module_version": "1.2.0",
      "_view_name": "LayoutView",
      "align_content": null,
      "align_items": null,
      "align_self": null,
      "border": null,
      "bottom": null,
      "display": null,
      "flex": null,
      "flex_flow": null,
      "grid_area": null,
      "grid_auto_columns": null,
      "grid_auto_flow": null,
      "grid_auto_rows": null,
      "grid_column": null,
      "grid_gap": null,
      "grid_row": null,
      "grid_template_areas": null,
      "grid_template_columns": null,
      "grid_template_rows": null,
      "height": null,
      "justify_content": null,
      "justify_items": null,
      "left": null,
      "margin": null,
      "max_height": null,
      "max_width": null,
      "min_height": null,
      "min_width": null,
      "object_fit": null,
      "object_position": null,
      "order": null,
      "overflow": null,
      "overflow_x": null,
      "overflow_y": null,
      "padding": null,
      "right": null,
      "top": null,
      "visibility": null,
      "width": null
     }
    },
    "9906fe6f66f945bea230ff50a0b2d4ac": {
     "model_module": "@jupyter-widgets/controls",
     "model_module_version": "1.5.0",
     "model_name": "HTMLModel",
     "state": {
      "_dom_classes": [],
      "_model_module": "@jupyter-widgets/controls",
      "_model_module_version": "1.5.0",
      "_model_name": "HTMLModel",
      "_view_count": null,
      "_view_module": "@jupyter-widgets/controls",
      "_view_module_version": "1.5.0",
      "_view_name": "HTMLView",
      "description": "",
      "description_tooltip": null,
      "layout": "IPY_MODEL_4e8297e11fe0494f9e46105bb6b22aa2",
      "placeholder": "​",
      "style": "IPY_MODEL_9f17109d1865444dbf29d047fe1d30f8",
      "value": "tokenizer_config.json: 100%"
     }
    },
    "990cd5eb3d1f4d81841cdbe5b87be59c": {
     "model_module": "@jupyter-widgets/controls",
     "model_module_version": "1.5.0",
     "model_name": "DescriptionStyleModel",
     "state": {
      "_model_module": "@jupyter-widgets/controls",
      "_model_module_version": "1.5.0",
      "_model_name": "DescriptionStyleModel",
      "_view_count": null,
      "_view_module": "@jupyter-widgets/base",
      "_view_module_version": "1.2.0",
      "_view_name": "StyleView",
      "description_width": ""
     }
    },
    "9c2745cb9b5c4df9b1d445a46af7246e": {
     "model_module": "@jupyter-widgets/base",
     "model_module_version": "1.2.0",
     "model_name": "LayoutModel",
     "state": {
      "_model_module": "@jupyter-widgets/base",
      "_model_module_version": "1.2.0",
      "_model_name": "LayoutModel",
      "_view_count": null,
      "_view_module": "@jupyter-widgets/base",
      "_view_module_version": "1.2.0",
      "_view_name": "LayoutView",
      "align_content": null,
      "align_items": null,
      "align_self": null,
      "border": null,
      "bottom": null,
      "display": null,
      "flex": null,
      "flex_flow": null,
      "grid_area": null,
      "grid_auto_columns": null,
      "grid_auto_flow": null,
      "grid_auto_rows": null,
      "grid_column": null,
      "grid_gap": null,
      "grid_row": null,
      "grid_template_areas": null,
      "grid_template_columns": null,
      "grid_template_rows": null,
      "height": null,
      "justify_content": null,
      "justify_items": null,
      "left": null,
      "margin": null,
      "max_height": null,
      "max_width": null,
      "min_height": null,
      "min_width": null,
      "object_fit": null,
      "object_position": null,
      "order": null,
      "overflow": null,
      "overflow_x": null,
      "overflow_y": null,
      "padding": null,
      "right": null,
      "top": null,
      "visibility": null,
      "width": null
     }
    },
    "9ca1839d29bc4c35a805d79baa1a7318": {
     "model_module": "@jupyter-widgets/controls",
     "model_module_version": "1.5.0",
     "model_name": "HTMLModel",
     "state": {
      "_dom_classes": [],
      "_model_module": "@jupyter-widgets/controls",
      "_model_module_version": "1.5.0",
      "_model_name": "HTMLModel",
      "_view_count": null,
      "_view_module": "@jupyter-widgets/controls",
      "_view_module_version": "1.5.0",
      "_view_name": "HTMLView",
      "description": "",
      "description_tooltip": null,
      "layout": "IPY_MODEL_54b9dc7d592e4792b4194f002a1ba7ae",
      "placeholder": "​",
      "style": "IPY_MODEL_36a37d110845429e9740dcf45ed7aa13",
      "value": "config.json: 100%"
     }
    },
    "9dacc35e71af4c298b5f57db8a915d58": {
     "model_module": "@jupyter-widgets/base",
     "model_module_version": "1.2.0",
     "model_name": "LayoutModel",
     "state": {
      "_model_module": "@jupyter-widgets/base",
      "_model_module_version": "1.2.0",
      "_model_name": "LayoutModel",
      "_view_count": null,
      "_view_module": "@jupyter-widgets/base",
      "_view_module_version": "1.2.0",
      "_view_name": "LayoutView",
      "align_content": null,
      "align_items": null,
      "align_self": null,
      "border": null,
      "bottom": null,
      "display": null,
      "flex": null,
      "flex_flow": null,
      "grid_area": null,
      "grid_auto_columns": null,
      "grid_auto_flow": null,
      "grid_auto_rows": null,
      "grid_column": null,
      "grid_gap": null,
      "grid_row": null,
      "grid_template_areas": null,
      "grid_template_columns": null,
      "grid_template_rows": null,
      "height": null,
      "justify_content": null,
      "justify_items": null,
      "left": null,
      "margin": null,
      "max_height": null,
      "max_width": null,
      "min_height": null,
      "min_width": null,
      "object_fit": null,
      "object_position": null,
      "order": null,
      "overflow": null,
      "overflow_x": null,
      "overflow_y": null,
      "padding": null,
      "right": null,
      "top": null,
      "visibility": null,
      "width": null
     }
    },
    "9f17109d1865444dbf29d047fe1d30f8": {
     "model_module": "@jupyter-widgets/controls",
     "model_module_version": "1.5.0",
     "model_name": "DescriptionStyleModel",
     "state": {
      "_model_module": "@jupyter-widgets/controls",
      "_model_module_version": "1.5.0",
      "_model_name": "DescriptionStyleModel",
      "_view_count": null,
      "_view_module": "@jupyter-widgets/base",
      "_view_module_version": "1.2.0",
      "_view_name": "StyleView",
      "description_width": ""
     }
    },
    "a4adbdae0f9a443383c69027f1df5662": {
     "model_module": "@jupyter-widgets/controls",
     "model_module_version": "1.5.0",
     "model_name": "HTMLModel",
     "state": {
      "_dom_classes": [],
      "_model_module": "@jupyter-widgets/controls",
      "_model_module_version": "1.5.0",
      "_model_name": "HTMLModel",
      "_view_count": null,
      "_view_module": "@jupyter-widgets/controls",
      "_view_module_version": "1.5.0",
      "_view_name": "HTMLView",
      "description": "",
      "description_tooltip": null,
      "layout": "IPY_MODEL_1839bf32069a47cfafda0e15844200ca",
      "placeholder": "​",
      "style": "IPY_MODEL_aae1a324884b404fa33ddb1003b02ef9",
      "value": "pytorch_model.bin: 100%"
     }
    },
    "a645371559eb47bfb2e7713f2d926c0d": {
     "model_module": "@jupyter-widgets/controls",
     "model_module_version": "1.5.0",
     "model_name": "DescriptionStyleModel",
     "state": {
      "_model_module": "@jupyter-widgets/controls",
      "_model_module_version": "1.5.0",
      "_model_name": "DescriptionStyleModel",
      "_view_count": null,
      "_view_module": "@jupyter-widgets/base",
      "_view_module_version": "1.2.0",
      "_view_name": "StyleView",
      "description_width": ""
     }
    },
    "a6d9906cfe06423fad07cb04525ab190": {
     "model_module": "@jupyter-widgets/controls",
     "model_module_version": "1.5.0",
     "model_name": "HTMLModel",
     "state": {
      "_dom_classes": [],
      "_model_module": "@jupyter-widgets/controls",
      "_model_module_version": "1.5.0",
      "_model_name": "HTMLModel",
      "_view_count": null,
      "_view_module": "@jupyter-widgets/controls",
      "_view_module_version": "1.5.0",
      "_view_name": "HTMLView",
      "description": "",
      "description_tooltip": null,
      "layout": "IPY_MODEL_307c9e7afee94e39a30ad5889c2fc61f",
      "placeholder": "​",
      "style": "IPY_MODEL_d1e01c2a27ac425fa28caab00c12886d",
      "value": "special_tokens_map.json: 100%"
     }
    },
    "aaa0fa7689a049e7b96d36edcd868759": {
     "model_module": "@jupyter-widgets/base",
     "model_module_version": "1.2.0",
     "model_name": "LayoutModel",
     "state": {
      "_model_module": "@jupyter-widgets/base",
      "_model_module_version": "1.2.0",
      "_model_name": "LayoutModel",
      "_view_count": null,
      "_view_module": "@jupyter-widgets/base",
      "_view_module_version": "1.2.0",
      "_view_name": "LayoutView",
      "align_content": null,
      "align_items": null,
      "align_self": null,
      "border": null,
      "bottom": null,
      "display": null,
      "flex": null,
      "flex_flow": null,
      "grid_area": null,
      "grid_auto_columns": null,
      "grid_auto_flow": null,
      "grid_auto_rows": null,
      "grid_column": null,
      "grid_gap": null,
      "grid_row": null,
      "grid_template_areas": null,
      "grid_template_columns": null,
      "grid_template_rows": null,
      "height": null,
      "justify_content": null,
      "justify_items": null,
      "left": null,
      "margin": null,
      "max_height": null,
      "max_width": null,
      "min_height": null,
      "min_width": null,
      "object_fit": null,
      "object_position": null,
      "order": null,
      "overflow": null,
      "overflow_x": null,
      "overflow_y": null,
      "padding": null,
      "right": null,
      "top": null,
      "visibility": null,
      "width": null
     }
    },
    "aae1a324884b404fa33ddb1003b02ef9": {
     "model_module": "@jupyter-widgets/controls",
     "model_module_version": "1.5.0",
     "model_name": "DescriptionStyleModel",
     "state": {
      "_model_module": "@jupyter-widgets/controls",
      "_model_module_version": "1.5.0",
      "_model_name": "DescriptionStyleModel",
      "_view_count": null,
      "_view_module": "@jupyter-widgets/base",
      "_view_module_version": "1.2.0",
      "_view_name": "StyleView",
      "description_width": ""
     }
    },
    "ad0962421eea4c6da5beff02c0dce89a": {
     "model_module": "@jupyter-widgets/base",
     "model_module_version": "1.2.0",
     "model_name": "LayoutModel",
     "state": {
      "_model_module": "@jupyter-widgets/base",
      "_model_module_version": "1.2.0",
      "_model_name": "LayoutModel",
      "_view_count": null,
      "_view_module": "@jupyter-widgets/base",
      "_view_module_version": "1.2.0",
      "_view_name": "LayoutView",
      "align_content": null,
      "align_items": null,
      "align_self": null,
      "border": null,
      "bottom": null,
      "display": null,
      "flex": null,
      "flex_flow": null,
      "grid_area": null,
      "grid_auto_columns": null,
      "grid_auto_flow": null,
      "grid_auto_rows": null,
      "grid_column": null,
      "grid_gap": null,
      "grid_row": null,
      "grid_template_areas": null,
      "grid_template_columns": null,
      "grid_template_rows": null,
      "height": null,
      "justify_content": null,
      "justify_items": null,
      "left": null,
      "margin": null,
      "max_height": null,
      "max_width": null,
      "min_height": null,
      "min_width": null,
      "object_fit": null,
      "object_position": null,
      "order": null,
      "overflow": null,
      "overflow_x": null,
      "overflow_y": null,
      "padding": null,
      "right": null,
      "top": null,
      "visibility": null,
      "width": null
     }
    },
    "b195620cdf61415898423dd9e4dedc1d": {
     "model_module": "@jupyter-widgets/controls",
     "model_module_version": "1.5.0",
     "model_name": "ProgressStyleModel",
     "state": {
      "_model_module": "@jupyter-widgets/controls",
      "_model_module_version": "1.5.0",
      "_model_name": "ProgressStyleModel",
      "_view_count": null,
      "_view_module": "@jupyter-widgets/base",
      "_view_module_version": "1.2.0",
      "_view_name": "StyleView",
      "bar_color": null,
      "description_width": ""
     }
    },
    "c2024535095f41a884bd2125136ae02d": {
     "model_module": "@jupyter-widgets/controls",
     "model_module_version": "1.5.0",
     "model_name": "HBoxModel",
     "state": {
      "_dom_classes": [],
      "_model_module": "@jupyter-widgets/controls",
      "_model_module_version": "1.5.0",
      "_model_name": "HBoxModel",
      "_view_count": null,
      "_view_module": "@jupyter-widgets/controls",
      "_view_module_version": "1.5.0",
      "_view_name": "HBoxView",
      "box_style": "",
      "children": [
       "IPY_MODEL_a6d9906cfe06423fad07cb04525ab190",
       "IPY_MODEL_d00c99b870254658984649b30ee987c8",
       "IPY_MODEL_8459d9f8c9ac4f1ab7bd8ad77f4c2455"
      ],
      "layout": "IPY_MODEL_aaa0fa7689a049e7b96d36edcd868759"
     }
    },
    "c2ca8cce9b0a4eb3832cff4f2d09e769": {
     "model_module": "@jupyter-widgets/base",
     "model_module_version": "1.2.0",
     "model_name": "LayoutModel",
     "state": {
      "_model_module": "@jupyter-widgets/base",
      "_model_module_version": "1.2.0",
      "_model_name": "LayoutModel",
      "_view_count": null,
      "_view_module": "@jupyter-widgets/base",
      "_view_module_version": "1.2.0",
      "_view_name": "LayoutView",
      "align_content": null,
      "align_items": null,
      "align_self": null,
      "border": null,
      "bottom": null,
      "display": null,
      "flex": null,
      "flex_flow": null,
      "grid_area": null,
      "grid_auto_columns": null,
      "grid_auto_flow": null,
      "grid_auto_rows": null,
      "grid_column": null,
      "grid_gap": null,
      "grid_row": null,
      "grid_template_areas": null,
      "grid_template_columns": null,
      "grid_template_rows": null,
      "height": null,
      "justify_content": null,
      "justify_items": null,
      "left": null,
      "margin": null,
      "max_height": null,
      "max_width": null,
      "min_height": null,
      "min_width": null,
      "object_fit": null,
      "object_position": null,
      "order": null,
      "overflow": null,
      "overflow_x": null,
      "overflow_y": null,
      "padding": null,
      "right": null,
      "top": null,
      "visibility": null,
      "width": null
     }
    },
    "c6c664d3cc6a4fe98513fb5396a0df62": {
     "model_module": "@jupyter-widgets/controls",
     "model_module_version": "1.5.0",
     "model_name": "HTMLModel",
     "state": {
      "_dom_classes": [],
      "_model_module": "@jupyter-widgets/controls",
      "_model_module_version": "1.5.0",
      "_model_name": "HTMLModel",
      "_view_count": null,
      "_view_module": "@jupyter-widgets/controls",
      "_view_module_version": "1.5.0",
      "_view_name": "HTMLView",
      "description": "",
      "description_tooltip": null,
      "layout": "IPY_MODEL_5783165cd1734620b7bfec822ae2882c",
      "placeholder": "​",
      "style": "IPY_MODEL_fe739a81d9ed4e3f899c1e457bb86600",
      "value": " 292/292 [00:00&lt;00:00, 15.8kB/s]"
     }
    },
    "c97e1f82d8a74ca8b659d524ed071d3b": {
     "model_module": "@jupyter-widgets/controls",
     "model_module_version": "1.5.0",
     "model_name": "DescriptionStyleModel",
     "state": {
      "_model_module": "@jupyter-widgets/controls",
      "_model_module_version": "1.5.0",
      "_model_name": "DescriptionStyleModel",
      "_view_count": null,
      "_view_module": "@jupyter-widgets/base",
      "_view_module_version": "1.2.0",
      "_view_name": "StyleView",
      "description_width": ""
     }
    },
    "ceda1cf5b502421b87bea1f81f73973d": {
     "model_module": "@jupyter-widgets/controls",
     "model_module_version": "1.5.0",
     "model_name": "ProgressStyleModel",
     "state": {
      "_model_module": "@jupyter-widgets/controls",
      "_model_module_version": "1.5.0",
      "_model_name": "ProgressStyleModel",
      "_view_count": null,
      "_view_module": "@jupyter-widgets/base",
      "_view_module_version": "1.2.0",
      "_view_name": "StyleView",
      "bar_color": null,
      "description_width": ""
     }
    },
    "d00c99b870254658984649b30ee987c8": {
     "model_module": "@jupyter-widgets/controls",
     "model_module_version": "1.5.0",
     "model_name": "FloatProgressModel",
     "state": {
      "_dom_classes": [],
      "_model_module": "@jupyter-widgets/controls",
      "_model_module_version": "1.5.0",
      "_model_name": "FloatProgressModel",
      "_view_count": null,
      "_view_module": "@jupyter-widgets/controls",
      "_view_module_version": "1.5.0",
      "_view_name": "ProgressView",
      "bar_style": "success",
      "description": "",
      "description_tooltip": null,
      "layout": "IPY_MODEL_dfa5fc4e5a94476899c6e8191d0f4100",
      "max": 134,
      "min": 0,
      "orientation": "horizontal",
      "style": "IPY_MODEL_709f2d136458433fbecde1a6d2a9b94f",
      "value": 134
     }
    },
    "d1e01c2a27ac425fa28caab00c12886d": {
     "model_module": "@jupyter-widgets/controls",
     "model_module_version": "1.5.0",
     "model_name": "DescriptionStyleModel",
     "state": {
      "_model_module": "@jupyter-widgets/controls",
      "_model_module_version": "1.5.0",
      "_model_name": "DescriptionStyleModel",
      "_view_count": null,
      "_view_module": "@jupyter-widgets/base",
      "_view_module_version": "1.2.0",
      "_view_name": "StyleView",
      "description_width": ""
     }
    },
    "dfa5fc4e5a94476899c6e8191d0f4100": {
     "model_module": "@jupyter-widgets/base",
     "model_module_version": "1.2.0",
     "model_name": "LayoutModel",
     "state": {
      "_model_module": "@jupyter-widgets/base",
      "_model_module_version": "1.2.0",
      "_model_name": "LayoutModel",
      "_view_count": null,
      "_view_module": "@jupyter-widgets/base",
      "_view_module_version": "1.2.0",
      "_view_name": "LayoutView",
      "align_content": null,
      "align_items": null,
      "align_self": null,
      "border": null,
      "bottom": null,
      "display": null,
      "flex": null,
      "flex_flow": null,
      "grid_area": null,
      "grid_auto_columns": null,
      "grid_auto_flow": null,
      "grid_auto_rows": null,
      "grid_column": null,
      "grid_gap": null,
      "grid_row": null,
      "grid_template_areas": null,
      "grid_template_columns": null,
      "grid_template_rows": null,
      "height": null,
      "justify_content": null,
      "justify_items": null,
      "left": null,
      "margin": null,
      "max_height": null,
      "max_width": null,
      "min_height": null,
      "min_width": null,
      "object_fit": null,
      "object_position": null,
      "order": null,
      "overflow": null,
      "overflow_x": null,
      "overflow_y": null,
      "padding": null,
      "right": null,
      "top": null,
      "visibility": null,
      "width": null
     }
    },
    "fe739a81d9ed4e3f899c1e457bb86600": {
     "model_module": "@jupyter-widgets/controls",
     "model_module_version": "1.5.0",
     "model_name": "DescriptionStyleModel",
     "state": {
      "_model_module": "@jupyter-widgets/controls",
      "_model_module_version": "1.5.0",
      "_model_name": "DescriptionStyleModel",
      "_view_count": null,
      "_view_module": "@jupyter-widgets/base",
      "_view_module_version": "1.2.0",
      "_view_name": "StyleView",
      "description_width": ""
     }
    }
   }
  }
 },
 "nbformat": 4,
 "nbformat_minor": 0
}
